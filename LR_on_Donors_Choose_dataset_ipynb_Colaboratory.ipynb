{
  "nbformat": 4,
  "nbformat_minor": 0,
  "metadata": {
    "colab": {
      "name": "sujit.titun@gmail.com_Assignment-5_LR on Donors Choose dataset.ipynb - Colaboratory.ipynb",
      "provenance": [],
      "collapsed_sections": [
        "2lFoxdsRhGsU",
        "wD9Za5q1kwkn",
        "rbRBJ8nLJ7VE",
        "L4TgDsIFLTCX",
        "6kMLTJE1NBDY",
        "JU8qnjT_Nfgr",
        "9rYJ3kDoisM3"
      ]
    },
    "kernelspec": {
      "name": "python3",
      "display_name": "Python 3"
    }
  },
  "cells": [
    {
      "cell_type": "code",
      "metadata": {
        "id": "sDZP0e7LqddE",
        "colab_type": "code",
        "outputId": "4ec2ab7a-046e-429d-e40b-9b41132d6d81",
        "colab": {
          "base_uri": "https://localhost:8080/",
          "height": 35
        }
      },
      "source": [
        "%matplotlib inline\n",
        "import warnings\n",
        "warnings.filterwarnings(\"ignore\")\n",
        "\n",
        "import sqlite3\n",
        "import pandas as pd\n",
        "import numpy as np\n",
        "import nltk\n",
        "import string\n",
        "import matplotlib.pyplot as plt\n",
        "import seaborn as sns\n",
        "from sklearn.feature_extraction.text import TfidfTransformer\n",
        "from sklearn.feature_extraction.text import TfidfVectorizer\n",
        "\n",
        "from sklearn.feature_extraction.text import CountVectorizer\n",
        "from sklearn.metrics import confusion_matrix\n",
        "from sklearn import metrics\n",
        "from sklearn.metrics import roc_curve, auc\n",
        "from nltk.stem.porter import PorterStemmer\n",
        "\n",
        "import re\n",
        "# Tutorial about Python regular expressions: https://pymotw.com/2/re/\n",
        "import string\n",
        "from nltk.corpus import stopwords\n",
        "from nltk.stem import PorterStemmer\n",
        "from nltk.stem.wordnet import WordNetLemmatizer\n",
        "\n",
        "from gensim.models import Word2Vec\n",
        "from gensim.models import KeyedVectors\n",
        "import pickle\n",
        "\n",
        "from tqdm import tqdm\n",
        "import os\n",
        "\n",
        "# from plotly import plotly\n",
        "# import plotly.offline as offline\n",
        "# import plotly.graph_objs as go\n",
        "# offline.init_notebook_mode()\n",
        "from collections import Counter\n",
        "print('done all modules imported ')"
      ],
      "execution_count": 1,
      "outputs": [
        {
          "output_type": "stream",
          "text": [
            "done all modules imported \n"
          ],
          "name": "stdout"
        }
      ]
    },
    {
      "cell_type": "code",
      "metadata": {
        "id": "LPVNohezYDW1",
        "colab_type": "code",
        "outputId": "92e8ca0c-b22f-4060-d560-420d53cf8288",
        "colab": {
          "base_uri": "https://localhost:8080/",
          "height": 104
        }
      },
      "source": [
        "#getting the file from google drive (test data)\n",
        "import gdown\n",
        "\n",
        "url = 'https://drive.google.com/uc?id=1bDLwb_Vq7q2W9S89JB96PgmZG3LsLns9'\n",
        "output = 'train.csv'\n",
        "# https://drive.google.com/file/d/1bDLwb_Vq7q2W9S89JB96PgmZG3LsLns9/view?usp=sharing\n",
        "gdown.download(url, output, quiet=False)"
      ],
      "execution_count": 2,
      "outputs": [
        {
          "output_type": "stream",
          "text": [
            "Downloading...\n",
            "From: https://drive.google.com/uc?id=1bDLwb_Vq7q2W9S89JB96PgmZG3LsLns9\n",
            "To: /content/train.csv\n",
            "201MB [00:01, 109MB/s] \n"
          ],
          "name": "stderr"
        },
        {
          "output_type": "execute_result",
          "data": {
            "text/plain": [
              "'train.csv'"
            ]
          },
          "metadata": {
            "tags": []
          },
          "execution_count": 2
        }
      ]
    },
    {
      "cell_type": "code",
      "metadata": {
        "id": "wdN5x-OrYpMZ",
        "colab_type": "code",
        "outputId": "d80053ac-3ae9-4d99-a45f-4c355e54a238",
        "colab": {
          "base_uri": "https://localhost:8080/",
          "height": 104
        }
      },
      "source": [
        "#getting the data from google drive (resources data)resources data\n",
        "import gdown\n",
        "url = 'https://drive.google.com/uc?id=14OVXWu_SJU-lJD-jKMOCld14EZ21lYYe'\n",
        "output = 'resources.csv'\n",
        "gdown.download(url, output, quiet=False)\n"
      ],
      "execution_count": 3,
      "outputs": [
        {
          "output_type": "stream",
          "text": [
            "Downloading...\n",
            "From: https://drive.google.com/uc?id=14OVXWu_SJU-lJD-jKMOCld14EZ21lYYe\n",
            "To: /content/resources.csv\n",
            "127MB [00:00, 136MB/s] \n"
          ],
          "name": "stderr"
        },
        {
          "output_type": "execute_result",
          "data": {
            "text/plain": [
              "'resources.csv'"
            ]
          },
          "metadata": {
            "tags": []
          },
          "execution_count": 3
        }
      ]
    },
    {
      "cell_type": "code",
      "metadata": {
        "id": "OYpcAf0JZXlZ",
        "colab_type": "code",
        "colab": {}
      },
      "source": [
        "dft = pd.read_csv('train.csv',nrows=50000)\n",
        "dfr = pd.read_csv('resources.csv')"
      ],
      "execution_count": 0,
      "outputs": []
    },
    {
      "cell_type": "code",
      "metadata": {
        "id": "IKgcZQRzaMD_",
        "colab_type": "code",
        "outputId": "70fa9f59-b66d-4709-c166-d0714a15bf10",
        "colab": {
          "base_uri": "https://localhost:8080/",
          "height": 208
        }
      },
      "source": [
        "print(\"Number of data points in train data\", dft.shape)\n",
        "print('^^'*50)\n",
        "print(\"The attributes of data :\", dft.columns.values)\n",
        "print('^^'*50)\n",
        "print(dfr.shape)\n",
        "print(dfr.columns.values)"
      ],
      "execution_count": 5,
      "outputs": [
        {
          "output_type": "stream",
          "text": [
            "Number of data points in train data (50000, 17)\n",
            "^^^^^^^^^^^^^^^^^^^^^^^^^^^^^^^^^^^^^^^^^^^^^^^^^^^^^^^^^^^^^^^^^^^^^^^^^^^^^^^^^^^^^^^^^^^^^^^^^^^^\n",
            "The attributes of data : ['Unnamed: 0' 'id' 'teacher_id' 'teacher_prefix' 'school_state'\n",
            " 'project_submitted_datetime' 'project_grade_category'\n",
            " 'project_subject_categories' 'project_subject_subcategories'\n",
            " 'project_title' 'project_essay_1' 'project_essay_2' 'project_essay_3'\n",
            " 'project_essay_4' 'project_resource_summary'\n",
            " 'teacher_number_of_previously_posted_projects' 'project_is_approved']\n",
            "^^^^^^^^^^^^^^^^^^^^^^^^^^^^^^^^^^^^^^^^^^^^^^^^^^^^^^^^^^^^^^^^^^^^^^^^^^^^^^^^^^^^^^^^^^^^^^^^^^^^\n",
            "(1541272, 4)\n",
            "['id' 'description' 'quantity' 'price']\n"
          ],
          "name": "stdout"
        }
      ]
    },
    {
      "cell_type": "code",
      "metadata": {
        "id": "zyfdQRAwajxw",
        "colab_type": "code",
        "outputId": "590afacb-2032-4cf0-b613-678762c873d7",
        "colab": {
          "base_uri": "https://localhost:8080/",
          "height": 269
        }
      },
      "source": [
        "#sort the datapoints by date and time column\n",
        "# list comprehension python : https://stackoverflow.com/a/2582163/4084039\n",
        "# cols = ['Date' if x=='project_submitted_datetime' else x for x in list(dft.columns)]\n",
        "# #sort dataframe based on time  uisng pandas to_datetime function  : https://stackoverflow.com/a/49702492/4084039\n",
        "# dft['Date'] = pd.to_datetime(dft['project_submitted_datetime'])\n",
        "# dft.drop('project_submitted_datetime', axis=1, inplace=True)# we drop the col\n",
        "# dft.sort_values(by=['Date'], inplace=True)# sort the values y date\n",
        "dft.head(2)"
      ],
      "execution_count": 6,
      "outputs": [
        {
          "output_type": "execute_result",
          "data": {
            "text/html": [
              "<div>\n",
              "<style scoped>\n",
              "    .dataframe tbody tr th:only-of-type {\n",
              "        vertical-align: middle;\n",
              "    }\n",
              "\n",
              "    .dataframe tbody tr th {\n",
              "        vertical-align: top;\n",
              "    }\n",
              "\n",
              "    .dataframe thead th {\n",
              "        text-align: right;\n",
              "    }\n",
              "</style>\n",
              "<table border=\"1\" class=\"dataframe\">\n",
              "  <thead>\n",
              "    <tr style=\"text-align: right;\">\n",
              "      <th></th>\n",
              "      <th>Unnamed: 0</th>\n",
              "      <th>id</th>\n",
              "      <th>teacher_id</th>\n",
              "      <th>teacher_prefix</th>\n",
              "      <th>school_state</th>\n",
              "      <th>project_submitted_datetime</th>\n",
              "      <th>project_grade_category</th>\n",
              "      <th>project_subject_categories</th>\n",
              "      <th>project_subject_subcategories</th>\n",
              "      <th>project_title</th>\n",
              "      <th>project_essay_1</th>\n",
              "      <th>project_essay_2</th>\n",
              "      <th>project_essay_3</th>\n",
              "      <th>project_essay_4</th>\n",
              "      <th>project_resource_summary</th>\n",
              "      <th>teacher_number_of_previously_posted_projects</th>\n",
              "      <th>project_is_approved</th>\n",
              "    </tr>\n",
              "  </thead>\n",
              "  <tbody>\n",
              "    <tr>\n",
              "      <th>0</th>\n",
              "      <td>160221</td>\n",
              "      <td>p253737</td>\n",
              "      <td>c90749f5d961ff158d4b4d1e7dc665fc</td>\n",
              "      <td>Mrs.</td>\n",
              "      <td>IN</td>\n",
              "      <td>2016-12-05 13:43:57</td>\n",
              "      <td>Grades PreK-2</td>\n",
              "      <td>Literacy &amp; Language</td>\n",
              "      <td>ESL, Literacy</td>\n",
              "      <td>Educational Support for English Learners at Home</td>\n",
              "      <td>My students are English learners that are work...</td>\n",
              "      <td>\\\"The limits of your language are the limits o...</td>\n",
              "      <td>NaN</td>\n",
              "      <td>NaN</td>\n",
              "      <td>My students need opportunities to practice beg...</td>\n",
              "      <td>0</td>\n",
              "      <td>0</td>\n",
              "    </tr>\n",
              "    <tr>\n",
              "      <th>1</th>\n",
              "      <td>140945</td>\n",
              "      <td>p258326</td>\n",
              "      <td>897464ce9ddc600bced1151f324dd63a</td>\n",
              "      <td>Mr.</td>\n",
              "      <td>FL</td>\n",
              "      <td>2016-10-25 09:22:10</td>\n",
              "      <td>Grades 6-8</td>\n",
              "      <td>History &amp; Civics, Health &amp; Sports</td>\n",
              "      <td>Civics &amp; Government, Team Sports</td>\n",
              "      <td>Wanted: Projector for Hungry Learners</td>\n",
              "      <td>Our students arrive to our school eager to lea...</td>\n",
              "      <td>The projector we need for our school is very c...</td>\n",
              "      <td>NaN</td>\n",
              "      <td>NaN</td>\n",
              "      <td>My students need a projector to help with view...</td>\n",
              "      <td>7</td>\n",
              "      <td>1</td>\n",
              "    </tr>\n",
              "  </tbody>\n",
              "</table>\n",
              "</div>"
            ],
            "text/plain": [
              "   Unnamed: 0  ... project_is_approved\n",
              "0      160221  ...                   0\n",
              "1      140945  ...                   1\n",
              "\n",
              "[2 rows x 17 columns]"
            ]
          },
          "metadata": {
            "tags": []
          },
          "execution_count": 6
        }
      ]
    },
    {
      "cell_type": "markdown",
      "metadata": {
        "id": "B82MirK4bw-P",
        "colab_type": "text"
      },
      "source": [
        "## 1.1  Text preprocessing"
      ]
    },
    {
      "cell_type": "code",
      "metadata": {
        "id": "8xk-_tXpbtsE",
        "colab_type": "code",
        "colab": {}
      },
      "source": [
        "# merge two column text dataframe: \n",
        "dft[\"essay\"] = dft[\"project_essay_1\"].map(str) +\\\n",
        "               dft[\"project_essay_2\"].map(str) + \\\n",
        "               dft[\"project_essay_3\"].map(str) + \\\n",
        "               dft[\"project_essay_4\"].map(str)"
      ],
      "execution_count": 0,
      "outputs": []
    },
    {
      "cell_type": "code",
      "metadata": {
        "id": "xm-i2zXob7Q3",
        "colab_type": "code",
        "colab": {}
      },
      "source": [
        "# https://stackoverflow.com/a/47091490/4084039\n",
        "import re\n",
        "\n",
        "def decontracted(phrase):\n",
        "    # specific\n",
        "    phrase = re.sub(r\"won't\", \"will not\", phrase)\n",
        "    phrase = re.sub(r\"can\\'t\", \"can not\", phrase)\n",
        "\n",
        "    # general\n",
        "    phrase = re.sub(r\"n\\'t\", \" not\", phrase)\n",
        "    phrase = re.sub(r\"\\'re\", \" are\", phrase)\n",
        "    phrase = re.sub(r\"\\'s\", \" is\", phrase)\n",
        "    phrase = re.sub(r\"\\'d\", \" would\", phrase)\n",
        "    phrase = re.sub(r\"\\'ll\", \" will\", phrase)\n",
        "    phrase = re.sub(r\"\\'t\", \" not\", phrase)\n",
        "    phrase = re.sub(r\"\\'ve\", \" have\", phrase)\n",
        "    phrase = re.sub(r\"\\'m\", \" am\", phrase)\n",
        "    return phrase"
      ],
      "execution_count": 0,
      "outputs": []
    },
    {
      "cell_type": "code",
      "metadata": {
        "id": "GxENGOX5b-o_",
        "colab_type": "code",
        "colab": {}
      },
      "source": [
        "# https://gist.github.com/sebleier/554280\n",
        "# we are removing the words from the stop words list so as to get btter prediction : that is , no , not ,etc .\n",
        "stopwords= ['i', 'me', 'my', 'myself', 'we', 'our', 'ours', 'ourselves', 'you', \"you're\", \"you've\",\\\n",
        "            \"you'll\", \"you'd\", 'your', 'yours', 'yourself', 'yourselves', 'he', 'him', 'his', 'himself', \\\n",
        "            'she', \"she's\", 'her', 'hers', 'herself', 'it', \"it's\", 'its', 'itself', 'they', 'them', 'their',\\\n",
        "            'theirs', 'themselves', 'what', 'which', 'who', 'whom', 'this', 'that', \"that'll\", 'these', 'those', \\\n",
        "            'am', 'is', 'are', 'was', 'were', 'be', 'been', 'being', 'have', 'has', 'had', 'having', 'do', 'does', \\\n",
        "            'did', 'doing', 'a', 'an', 'the', 'and', 'but', 'if', 'or', 'because', 'as', 'until', 'while', 'of', \\\n",
        "            'at', 'by', 'for', 'with', 'about', 'against', 'between', 'into', 'through', 'during', 'before', 'after',\\\n",
        "            'above', 'below', 'to', 'from', 'up', 'down', 'in', 'out', 'on', 'off', 'over', 'under', 'again', 'further',\\\n",
        "            'then', 'once', 'here', 'there', 'when', 'where', 'why', 'how', 'all', 'any', 'both', 'each', 'few', 'more',\\\n",
        "            'most', 'other', 'some', 'such', 'only', 'own', 'same', 'so', 'than', 'too', 'very', \\\n",
        "            's', 't', 'can', 'will', 'just', 'don', \"don't\", 'should', \"should've\", 'now', 'd', 'll', 'm', 'o', 're', \\\n",
        "            've', 'y', 'ain', 'aren', \"aren't\", 'couldn', \"couldn't\", 'didn', \"didn't\", 'doesn', \"doesn't\", 'hadn',\\\n",
        "            \"hadn't\", 'hasn', \"hasn't\", 'haven', \"haven't\", 'isn', \"isn't\", 'ma', 'mightn', \"mightn't\", 'mustn',\\\n",
        "            \"mustn't\", 'needn', \"needn't\", 'shan', \"shan't\", 'shouldn', \"shouldn't\", 'wasn', \"wasn't\", 'weren', \"weren't\", \\\n",
        "            'won', \"won't\", 'wouldn', \"wouldn't\"]"
      ],
      "execution_count": 0,
      "outputs": []
    },
    {
      "cell_type": "markdown",
      "metadata": {
        "id": "yxOk19BocnEj",
        "colab_type": "text"
      },
      "source": [
        "#### Preprocessing of the `**project_subject_categories**`"
      ]
    },
    {
      "cell_type": "code",
      "metadata": {
        "id": "pebgcks_cjjo",
        "colab_type": "code",
        "outputId": "c94ddf88-3601-4d22-e086-09ca1504501b",
        "colab": {
          "base_uri": "https://localhost:8080/",
          "height": 55
        }
      },
      "source": [
        "categories = list(dft['project_subject_categories'].values)\n",
        "# remove special characters from list of strings python: https://stackoverflow.com/a/47301924/4084039\n",
        "# https://www.geeksforgeeks.org/removing-stop-words-nltk-python/\n",
        "# https://stackoverflow.com/questions/23669024/how-to-strip-a-specific-word-from-a-string\n",
        "# https://stackoverflow.com/questions/8270092/remove-all-whitespace-in-a-string-in-python\n",
        "cat_list = []\n",
        "for i in categories:\n",
        "    temp = \"\"\n",
        "    for j in i.split(','): \n",
        "        if 'The' in j.split():\n",
        "            j=j.replace('The','')\n",
        "        j = j.replace(' ','') \n",
        "        temp+=j.strip()+\" \" \n",
        "        temp = temp.replace('&','_')\n",
        "    cat_list.append(temp.strip())\n",
        "    \n",
        "dft['clean_categories'] = cat_list\n",
        "dft.drop(['project_subject_categories'], axis=1, inplace=True)\n",
        "\n",
        "from collections import Counter\n",
        "my_counter = Counter()\n",
        "for word in dft['clean_categories'].values:\n",
        "    my_counter.update(word.split())\n",
        "\n",
        "cat_dict = dict(my_counter)\n",
        "project_subject_categories_dict = dict(sorted(cat_dict.items(), key=lambda kv: kv[1]))\n",
        "print(project_subject_categories_dict)"
      ],
      "execution_count": 10,
      "outputs": [
        {
          "output_type": "stream",
          "text": [
            "{'Warmth': 643, 'Care_Hunger': 643, 'History_Civics': 2689, 'Music_Arts': 4699, 'AppliedLearning': 5569, 'SpecialNeeds': 6233, 'Health_Sports': 6538, 'Math_Science': 18874, 'Literacy_Language': 23998}\n"
          ],
          "name": "stdout"
        }
      ]
    },
    {
      "cell_type": "markdown",
      "metadata": {
        "id": "J0251FJYdt3z",
        "colab_type": "text"
      },
      "source": [
        "#### preprocessing of the `**project_subject_subcategories**`"
      ]
    },
    {
      "cell_type": "code",
      "metadata": {
        "id": "mla4rL2_dnhg",
        "colab_type": "code",
        "outputId": "88cf3cb0-16bf-45e7-c891-ed52daccd1b8",
        "colab": {
          "base_uri": "https://localhost:8080/",
          "height": 537
        }
      },
      "source": [
        "sub_catogories = list(dft['project_subject_subcategories'].values)\n",
        "# # remove special characters from list of strings python: https://stackoverflow.com/a/47301924/4084039\n",
        "# # https://www.geeksforgeeks.org/removing-stop-words-nltk-python/\n",
        "# # https://stackoverflow.com/questions/23669024/how-to-strip-a-specific-word-from-a-string\n",
        "# # https://stackoverflow.com/questions/8270092/remove-all-whitespace-in-a-string-in-python\n",
        "\n",
        "sub_cat_list = []\n",
        "for i in sub_catogories:\n",
        "    temp = \"\"\n",
        "    for j in i.split(','): \n",
        "        if 'The' in j.split():\n",
        "            j=j.replace('The','') \n",
        "        j = j.replace(' ','') \n",
        "        temp +=j.strip()+\" \"\n",
        "        temp = temp.replace('&','_')\n",
        "    sub_cat_list.append(temp.strip())\n",
        "\n",
        "dft['clean_subcategories'] = sub_cat_list\n",
        "dft.drop(['project_subject_subcategories'], axis=1, inplace=True)\n",
        "\n",
        "# count of all the words in corpus python: https://stackoverflow.com/a/22898595/4084039\n",
        "my_counter = Counter()\n",
        "for word in dft['clean_subcategories'].values:\n",
        "    my_counter.update(word.split())\n",
        "    \n",
        "sub_cat_dict = dict(my_counter)\n",
        "project_subject_subcategories_dict = dict(sorted(sub_cat_dict.items(), key=lambda kv: kv[1]))\n",
        "project_subject_subcategories_dict"
      ],
      "execution_count": 11,
      "outputs": [
        {
          "output_type": "execute_result",
          "data": {
            "text/plain": [
              "{'AppliedSciences': 4901,\n",
              " 'Care_Hunger': 643,\n",
              " 'CharacterEducation': 958,\n",
              " 'Civics_Government': 380,\n",
              " 'College_CareerPrep': 1168,\n",
              " 'CommunityService': 214,\n",
              " 'ESL': 1999,\n",
              " 'EarlyDevelopment': 1937,\n",
              " 'Economics': 127,\n",
              " 'EnvironmentalScience': 2533,\n",
              " 'Extracurricular': 373,\n",
              " 'FinancialLiteracy': 253,\n",
              " 'ForeignLanguages': 388,\n",
              " 'Gym_Fitness': 2068,\n",
              " 'Health_LifeScience': 1876,\n",
              " 'Health_Wellness': 4732,\n",
              " 'History_Geography': 1433,\n",
              " 'Literacy': 15611,\n",
              " 'Literature_Writing': 10127,\n",
              " 'Mathematics': 12832,\n",
              " 'Music': 1432,\n",
              " 'NutritionEducation': 617,\n",
              " 'Other': 1128,\n",
              " 'ParentInvolvement': 302,\n",
              " 'PerformingArts': 910,\n",
              " 'SocialSciences': 864,\n",
              " 'SpecialNeeds': 6233,\n",
              " 'TeamSports': 995,\n",
              " 'VisualArts': 2865,\n",
              " 'Warmth': 643}"
            ]
          },
          "metadata": {
            "tags": []
          },
          "execution_count": 11
        }
      ]
    },
    {
      "cell_type": "markdown",
      "metadata": {
        "id": "WDhTJB3teZdq",
        "colab_type": "text"
      },
      "source": [
        "#### preprocessing of the `**project_grade_category**`"
      ]
    },
    {
      "cell_type": "code",
      "metadata": {
        "id": "Upj0S_0ielP4",
        "colab_type": "code",
        "outputId": "2317850f-f6b7-4ae9-a1da-067ed5b06b97",
        "colab": {
          "base_uri": "https://localhost:8080/",
          "height": 35
        }
      },
      "source": [
        "Grade= list(dft['project_grade_category'].values)\n",
        "# remove special characters from list of strings python: https://stackoverflow.com/a/47301924/4084039\n",
        "\n",
        "# https://www.geeksforgeeks.org/removing-stop-words-nltk-python/\n",
        "# https://stackoverflow.com/questions/23669024/how-to-strip-a-specific-word-from-a-string\n",
        "# https://stackoverflow.com/questions/8270092/remove-all-whitespace-in-a-string-in-python\n",
        "\n",
        "grade_cat_list = []\n",
        "for i in Grade:\n",
        "    # consider we have text like this:\n",
        "    for j in i.split(' '): #    # split by spae\n",
        "        j=j.replace('Grades','')# clean grades from the row\n",
        "    grade_cat_list.append(j.strip())\n",
        "    \n",
        "\n",
        "\n",
        "dft['clean_grade'] = grade_cat_list \n",
        "dft.drop(['project_grade_category'], axis=1, inplace=True)\n",
        "\n",
        "# count of all the words in corpus python: https://stackoverflow.com/a/22898595/4084039\n",
        "my_counter = Counter()\n",
        "for word in dft['clean_grade'].values:\n",
        "    my_counter.update(word.split())\n",
        "    \n",
        "project_grade_category_dict= dict(my_counter)\n",
        "sorted_project_grade_category_dict = dict(sorted(project_grade_category_dict.items(), key=lambda kv: kv[1]))\n",
        "sorted_project_grade_category_dict"
      ],
      "execution_count": 12,
      "outputs": [
        {
          "output_type": "execute_result",
          "data": {
            "text/plain": [
              "{'3-5': 16968, '6-8': 7750, '9-12': 4966, 'PreK-2': 20316}"
            ]
          },
          "metadata": {
            "tags": []
          },
          "execution_count": 12
        }
      ]
    },
    {
      "cell_type": "markdown",
      "metadata": {
        "id": "vs9Ov9PAkkbS",
        "colab_type": "text"
      },
      "source": [
        "## Preparing data matrix for the models for Model"
      ]
    },
    {
      "cell_type": "markdown",
      "metadata": {
        "id": "2lFoxdsRhGsU",
        "colab_type": "text"
      },
      "source": [
        "#### Spliting the Data for test , train and cv using the SKlearn Module train_test_split"
      ]
    },
    {
      "cell_type": "code",
      "metadata": {
        "id": "Oac2XgRUhGXT",
        "colab_type": "code",
        "colab": {}
      },
      "source": [
        "from sklearn.model_selection import train_test_split\n",
        "X_train, X_test, y_train, y_test = train_test_split(dft,dft['project_is_approved'],stratify= dft['project_is_approved'],test_size = 0.33)\n",
        "X_train, X_cv, y_train, y_cv = train_test_split(X_train, y_train,stratify= y_train,test_size = 0.33)"
      ],
      "execution_count": 0,
      "outputs": []
    },
    {
      "cell_type": "code",
      "metadata": {
        "id": "VYIW3DKwhmpn",
        "colab_type": "code",
        "outputId": "3ca51fc5-21e3-40e2-ce24-55b57aa65267",
        "colab": {
          "base_uri": "https://localhost:8080/",
          "height": 0
        }
      },
      "source": [
        "print(\"the shape of the Y_train data \", y_train.value_counts())\n",
        "print(\"&\"*25)\n",
        "print(\"the shape of the Y_test data \",y_test.value_counts())\n",
        "print(\"&\"*25)\n",
        "print(\"the shape of the Y_cv data \",y_cv.value_counts())\n",
        "print(\"&\"*25)\n",
        "print(\"the above representaion shows a huge imbalance in data \")"
      ],
      "execution_count": 14,
      "outputs": [
        {
          "output_type": "stream",
          "text": [
            "the shape of the Y_train data  1    18982\n",
            "0     3463\n",
            "Name: project_is_approved, dtype: int64\n",
            "&&&&&&&&&&&&&&&&&&&&&&&&&\n",
            "the shape of the Y_test data  1    13954\n",
            "0     2546\n",
            "Name: project_is_approved, dtype: int64\n",
            "&&&&&&&&&&&&&&&&&&&&&&&&&\n",
            "the shape of the Y_cv data  1    9350\n",
            "0    1705\n",
            "Name: project_is_approved, dtype: int64\n",
            "&&&&&&&&&&&&&&&&&&&&&&&&&\n",
            "the above representaion shows a huge imbalance in data \n"
          ],
          "name": "stdout"
        }
      ]
    },
    {
      "cell_type": "code",
      "metadata": {
        "id": "DfzjdQcv6qhK",
        "colab_type": "code",
        "colab": {}
      },
      "source": [
        "# Dropping the target variable coloums \n",
        "X_train.drop([\"project_is_approved\"], axis = 1, inplace = True) \n",
        "#x_test = \n",
        "X_test.drop([\"project_is_approved\"], axis = 1, inplace = True) \n",
        "#x_cv = \n",
        "X_cv.drop([\"project_is_approved\"], axis = 1, inplace = True) \n"
      ],
      "execution_count": 0,
      "outputs": []
    },
    {
      "cell_type": "markdown",
      "metadata": {
        "id": "wD9Za5q1kwkn",
        "colab_type": "text"
      },
      "source": [
        "#### Pre-processing the Text Features ,\n",
        "here we are independtenly doing the preprocessing as i observed that if we pre-processes and then divide the data , it is casuing in lower AUC score "
      ]
    },
    {
      "cell_type": "code",
      "metadata": {
        "id": "h3T7oWVShCeF",
        "colab_type": "code",
        "outputId": "2c3b916b-f078-4056-9ad9-5fbe789bcea1",
        "colab": {
          "base_uri": "https://localhost:8080/",
          "height": 0
        }
      },
      "source": [
        "#Proprocessing of  essay for X_train\n",
        "# https://gist.github.com/sebleier/554280 \n",
        "from tqdm import tqdm\n",
        "preprocessed_essays_train = []\n",
        "for sentance in tqdm(X_train['essay'].values):\n",
        "  sent = decontracted(sentance)\n",
        "  sent = sent.replace('\\\\r', ' ')\n",
        "  sent = sent.replace('\\\\\"', ' ')\n",
        "  sent = sent.replace('\\\\n', ' ')\n",
        "  sent = re.sub('[^A-Za-z0-9]+', ' ', sent)\n",
        "  sent = ' '.join(e for e in sent.split() if e.lower() not in stopwords)\n",
        "  preprocessed_essays_train.append(sent.lower().strip())"
      ],
      "execution_count": 16,
      "outputs": [
        {
          "output_type": "stream",
          "text": [
            "100%|██████████| 22445/22445 [00:11<00:00, 1916.23it/s]\n"
          ],
          "name": "stderr"
        }
      ]
    },
    {
      "cell_type": "code",
      "metadata": {
        "id": "Wh0Iv-aGlP4D",
        "colab_type": "code",
        "outputId": "c7aa5212-d208-458a-deb3-f60f656138e1",
        "colab": {
          "base_uri": "https://localhost:8080/",
          "height": 0
        }
      },
      "source": [
        "#Proprocessing of  essay for X_test\n",
        "\n",
        "from tqdm import tqdm\n",
        "preprocessed_essays_test = []\n",
        "for sentance in tqdm(X_test['essay'].values):\n",
        "  sent = decontracted(sentance)\n",
        "  sent = sent.replace('\\\\r', ' ')\n",
        "  sent = sent.replace('\\\\\"', ' ')\n",
        "  sent = sent.replace('\\\\n', ' ')\n",
        "  sent = re.sub('[^A-Za-z0-9]+', ' ', sent)\n",
        "  sent = ' '.join(e for e in sent.split() if e.lower() not in stopwords)\n",
        "  preprocessed_essays_test.append(sent.lower().strip())"
      ],
      "execution_count": 17,
      "outputs": [
        {
          "output_type": "stream",
          "text": [
            "100%|██████████| 16500/16500 [00:08<00:00, 1935.72it/s]\n"
          ],
          "name": "stderr"
        }
      ]
    },
    {
      "cell_type": "code",
      "metadata": {
        "id": "sb5xECAtldlS",
        "colab_type": "code",
        "outputId": "97af3faf-f520-4abf-9984-ccbf8102b183",
        "colab": {
          "base_uri": "https://localhost:8080/",
          "height": 0
        }
      },
      "source": [
        "#Proprocessing of  essay for X_CV\n",
        "\n",
        "from tqdm import tqdm\n",
        "preprocessed_essays_cv = []\n",
        "for sentance in tqdm(X_cv['essay'].values):\n",
        "  sent = decontracted(sentance)\n",
        "  sent = sent.replace('\\\\r', ' ')\n",
        "  sent = sent.replace('\\\\\"', ' ')\n",
        "  sent = sent.replace('\\\\n', ' ')\n",
        "  sent = re.sub('[^A-Za-z0-9]+', ' ', sent)\n",
        "  sent = ' '.join(e for e in sent.split() if e.lower() not in stopwords)\n",
        "  preprocessed_essays_cv.append(sent.lower().strip())"
      ],
      "execution_count": 18,
      "outputs": [
        {
          "output_type": "stream",
          "text": [
            "100%|██████████| 11055/11055 [00:05<00:00, 1923.50it/s]\n"
          ],
          "name": "stderr"
        }
      ]
    },
    {
      "cell_type": "code",
      "metadata": {
        "id": "Lb68fHOUmRsB",
        "colab_type": "code",
        "outputId": "8183f192-62f4-4a4f-fd37-237a3b28cd66",
        "colab": {
          "base_uri": "https://localhost:8080/",
          "height": 0
        }
      },
      "source": [
        "# Proprocessing for project_title of preprocessed_titles_train\n",
        "\n",
        "from tqdm import tqdm\n",
        "preprocessed_titles_train = []\n",
        "for sentance in tqdm(X_train['project_title'].values):\n",
        "  sent = decontracted(sentance)\n",
        "  sent = sent.replace('\\\\r', ' ')\n",
        "  sent = sent.replace('\\\\\"', ' ')\n",
        "  sent = sent.replace('\\\\n', ' ')\n",
        "  sent = re.sub('[^A-Za-z0-9]+', ' ', sent)\n",
        "  sent = ' '.join(e for e in sent.split() if e.lower() not in stopwords)\n",
        "  preprocessed_titles_train.append(sent.lower().strip())"
      ],
      "execution_count": 19,
      "outputs": [
        {
          "output_type": "stream",
          "text": [
            "100%|██████████| 22445/22445 [00:00<00:00, 43499.23it/s]\n"
          ],
          "name": "stderr"
        }
      ]
    },
    {
      "cell_type": "code",
      "metadata": {
        "id": "tTtgM4U4mVRI",
        "colab_type": "code",
        "outputId": "4906c6d1-0a88-4fb1-cb9f-1fd3672eb551",
        "colab": {
          "base_uri": "https://localhost:8080/",
          "height": 0
        }
      },
      "source": [
        "# Proprocessing for project_title of preprocessed_titles_test\n",
        " \n",
        "from tqdm import tqdm\n",
        "preprocessed_titles_test = []\n",
        "for sentance in tqdm(X_test['project_title'].values):\n",
        "  sent = decontracted(sentance)\n",
        "  sent = sent.replace('\\\\r', ' ')\n",
        "  sent = sent.replace('\\\\\"', ' ')\n",
        "  sent = sent.replace('\\\\n', ' ')\n",
        "  sent = re.sub('[^A-Za-z0-9]+', ' ', sent)\n",
        "   # https://gist.github.com/sebleier/554280\n",
        "  sent = ' '.join(e for e in sent.split() if e.lower() not in stopwords)\n",
        "  preprocessed_titles_test.append(sent.lower().strip())"
      ],
      "execution_count": 20,
      "outputs": [
        {
          "output_type": "stream",
          "text": [
            "100%|██████████| 16500/16500 [00:00<00:00, 44060.73it/s]\n"
          ],
          "name": "stderr"
        }
      ]
    },
    {
      "cell_type": "code",
      "metadata": {
        "id": "BTDjIUFimKgj",
        "colab_type": "code",
        "outputId": "dd700912-1bd1-4ddf-e344-d52989f45560",
        "colab": {
          "base_uri": "https://localhost:8080/",
          "height": 0
        }
      },
      "source": [
        "#Proprocessing for project_title of preprocessed_titles_cv\n",
        "\n",
        "from tqdm import tqdm\n",
        "preprocessed_titles_cv = []\n",
        "for sentance in tqdm(X_cv['project_title'].values):\n",
        "  sent = decontracted(sentance)\n",
        "  sent = sent.replace('\\\\r', ' ')\n",
        "  sent = sent.replace('\\\\\"', ' ')\n",
        "  sent = sent.replace('\\\\n', ' ')\n",
        "  sent = re.sub('[^A-Za-z0-9]+', ' ', sent)\n",
        "  sent = ' '.join(e for e in sent.split() if e.lower() not in stopwords)\n",
        "  preprocessed_titles_cv.append(sent.lower().strip())"
      ],
      "execution_count": 21,
      "outputs": [
        {
          "output_type": "stream",
          "text": [
            "100%|██████████| 11055/11055 [00:00<00:00, 42790.09it/s]\n"
          ],
          "name": "stderr"
        }
      ]
    },
    {
      "cell_type": "markdown",
      "metadata": {
        "id": "c1OkuAtXnI_K",
        "colab_type": "text"
      },
      "source": [
        "## 2.1 vectorizing the Categorical Data\n",
        "The vectorizing Processes used here is One-hot Encoding \n"
      ]
    },
    {
      "cell_type": "code",
      "metadata": {
        "id": "u6GpPovZm-cI",
        "colab_type": "code",
        "outputId": "d3f9805b-8e0d-4716-a84c-420174ea7252",
        "colab": {
          "base_uri": "https://localhost:8080/",
          "height": 72
        }
      },
      "source": [
        "from collections import Counter\n",
        "my_counter = Counter()\n",
        "for word in X_train['clean_categories'].values:\n",
        "    my_counter.update(word.split())\n",
        "\n",
        "cat_dict = dict(my_counter)\n",
        "project_subject_categories_dict = dict(sorted(cat_dict.items(), key=lambda kv: kv[1]))\n",
        "print(project_subject_categories_dict)\n",
        "\n",
        "#  vectorizing Processes of clean_categories \n",
        "from sklearn.feature_extraction.text import CountVectorizer\n",
        "vectorizer1 = CountVectorizer(vocabulary=list(project_subject_categories_dict.keys()), lowercase=False, binary=True)\n",
        "vectorizer1.fit(X_train['clean_categories'].values)\n",
        "\n",
        "# The fit is only to be happen on the train data orelse it may casue data leakage\n",
        "# we use the fitted CountVectorizer on X_train data for converting the text to vector form (i.e using One- hot encoding )\n",
        "X_train_cat = vectorizer1.transform(X_train['clean_categories'].values)\n",
        "X_cv_cat = vectorizer1.transform(X_cv['clean_categories'].values)\n",
        "X_test_cat = vectorizer1.transform(X_test['clean_categories'].values)\n",
        "\n",
        "print(vectorizer1.get_feature_names())\n"
      ],
      "execution_count": 22,
      "outputs": [
        {
          "output_type": "stream",
          "text": [
            "{'Warmth': 289, 'Care_Hunger': 289, 'History_Civics': 1246, 'Music_Arts': 2103, 'AppliedLearning': 2485, 'SpecialNeeds': 2837, 'Health_Sports': 2910, 'Math_Science': 8488, 'Literacy_Language': 10706}\n",
            "['Warmth', 'Care_Hunger', 'History_Civics', 'Music_Arts', 'AppliedLearning', 'SpecialNeeds', 'Health_Sports', 'Math_Science', 'Literacy_Language']\n"
          ],
          "name": "stdout"
        }
      ]
    },
    {
      "cell_type": "code",
      "metadata": {
        "id": "ysYvqgd1ocq6",
        "colab_type": "code",
        "outputId": "e07eb98c-6b22-434e-ac49-72b831e3678e",
        "colab": {
          "base_uri": "https://localhost:8080/",
          "height": 121
        }
      },
      "source": [
        "print(\"After vectorizations the shape of the data changes : it would be a spare matix form\")\n",
        "print(X_train_cat.shape, y_train.shape)\n",
        "print(\"=\"*100)\n",
        "print(X_cv_cat.shape, y_cv.shape)\n",
        "print(\"=\"*100)\n",
        "print(X_test_cat.shape, y_test.shape)"
      ],
      "execution_count": 23,
      "outputs": [
        {
          "output_type": "stream",
          "text": [
            "After vectorizations the shape of the data changes : it would be a spare matix form\n",
            "(22445, 9) (22445,)\n",
            "====================================================================================================\n",
            "(11055, 9) (11055,)\n",
            "====================================================================================================\n",
            "(16500, 9) (16500,)\n"
          ],
          "name": "stdout"
        }
      ]
    },
    {
      "cell_type": "code",
      "metadata": {
        "id": "5pXTDP0Zov4z",
        "colab_type": "code",
        "outputId": "cc1b30c3-d24a-4bc9-a50a-99c40821ba51",
        "colab": {
          "base_uri": "https://localhost:8080/",
          "height": 55
        }
      },
      "source": [
        "# The fit is only to be happen on the train data orelse it may casue data leakage\n",
        "# we use the fitted CountVectorizer on X_train data for converting the text to vector form (i.e using One- hot encoding )\n",
        "from sklearn.feature_extraction.text import CountVectorizer\n",
        "vectorizer2 = CountVectorizer(vocabulary=list(project_subject_subcategories_dict.keys()), lowercase=False, binary=True)\n",
        "vectorizer2.fit(X_train['clean_subcategories'].values)\n",
        "\n",
        "\n",
        "X_train_subcat = vectorizer2.transform(X_train['clean_subcategories'].values)\n",
        "X_cv_subcat = vectorizer2.transform(X_cv['clean_subcategories'].values)\n",
        "X_test_subcat = vectorizer2.transform(X_test['clean_subcategories'].values)\n",
        "\n",
        "print(vectorizer2.get_feature_names())"
      ],
      "execution_count": 24,
      "outputs": [
        {
          "output_type": "stream",
          "text": [
            "['Economics', 'CommunityService', 'FinancialLiteracy', 'ParentInvolvement', 'Extracurricular', 'Civics_Government', 'ForeignLanguages', 'NutritionEducation', 'Warmth', 'Care_Hunger', 'SocialSciences', 'PerformingArts', 'CharacterEducation', 'TeamSports', 'Other', 'College_CareerPrep', 'Music', 'History_Geography', 'Health_LifeScience', 'EarlyDevelopment', 'ESL', 'Gym_Fitness', 'EnvironmentalScience', 'VisualArts', 'Health_Wellness', 'AppliedSciences', 'SpecialNeeds', 'Literature_Writing', 'Mathematics', 'Literacy']\n"
          ],
          "name": "stdout"
        }
      ]
    },
    {
      "cell_type": "code",
      "metadata": {
        "id": "PZeMGMpAprU4",
        "colab_type": "code",
        "outputId": "b6c40247-57f9-45fa-f1bb-bd3cbeaa8e1c",
        "colab": {
          "base_uri": "https://localhost:8080/",
          "height": 121
        }
      },
      "source": [
        "print(\"After vectorizations the shape of the data changes : it would be a spare matix form\")\n",
        "print(X_train_subcat.shape, y_train.shape)\n",
        "print(\"=\"*100)\n",
        "print(X_cv_subcat.shape, y_cv.shape)\n",
        "print(\"=\"*100)\n",
        "print(X_test_subcat.shape, y_test.shape)\n"
      ],
      "execution_count": 25,
      "outputs": [
        {
          "output_type": "stream",
          "text": [
            "After vectorizations the shape of the data changes : it would be a spare matix form\n",
            "(22445, 30) (22445,)\n",
            "====================================================================================================\n",
            "(11055, 30) (11055,)\n",
            "====================================================================================================\n",
            "(16500, 30) (16500,)\n"
          ],
          "name": "stdout"
        }
      ]
    },
    {
      "cell_type": "code",
      "metadata": {
        "id": "Ilo4tyQ4prO4",
        "colab_type": "code",
        "outputId": "2a7c0bce-4790-40ef-b9de-71926e9bba7b",
        "colab": {
          "base_uri": "https://localhost:8080/",
          "height": 55
        }
      },
      "source": [
        "#school_state data column convert categorical to vectors\n",
        "# 1st the vocabulary of the words are taken into account then it is used to do one - hot - encodng \n",
        "# then sort the dictonary and apply the one - hot - encoding \n",
        "from collections import Counter\n",
        "my_counter = Counter()\n",
        "for word in dft['school_state'].values:\n",
        "    my_counter.update(word.split())\n",
        "\n",
        "school_state_dict = dict(my_counter)\n",
        "sorted_school_state_dict = dict(sorted(school_state_dict.items(), key=lambda kv: kv[1]))\n",
        "\n",
        "# here the data is converted into ector form \n",
        "from sklearn.feature_extraction.text import CountVectorizer\n",
        "vectorizer3 = CountVectorizer(vocabulary=list(sorted_school_state_dict.keys()), lowercase=False, binary=True)\n",
        "vectorizer3.fit(dft['school_state'].values)\n",
        "\n",
        "\n",
        "X_train_school_state = vectorizer3.transform(X_train['school_state'].values)\n",
        "X_cv_school_state = vectorizer3.transform(X_cv['school_state'].values)\n",
        "X_test_school_state = vectorizer3.transform(X_test['school_state'].values)\n",
        "\n",
        "print(vectorizer3.get_feature_names())"
      ],
      "execution_count": 26,
      "outputs": [
        {
          "output_type": "stream",
          "text": [
            "['VT', 'WY', 'ND', 'MT', 'RI', 'NH', 'SD', 'NE', 'AK', 'DE', 'WV', 'ME', 'NM', 'HI', 'DC', 'KS', 'ID', 'IA', 'AR', 'CO', 'MN', 'OR', 'MS', 'KY', 'NV', 'MD', 'CT', 'TN', 'AL', 'UT', 'WI', 'VA', 'AZ', 'NJ', 'OK', 'MA', 'LA', 'WA', 'MO', 'IN', 'OH', 'PA', 'MI', 'GA', 'SC', 'IL', 'NC', 'FL', 'TX', 'NY', 'CA']\n"
          ],
          "name": "stdout"
        }
      ]
    },
    {
      "cell_type": "code",
      "metadata": {
        "id": "jWDuwpcKrKNo",
        "colab_type": "code",
        "outputId": "a5b569f4-8847-45bc-ca6c-d4a694013ed2",
        "colab": {
          "base_uri": "https://localhost:8080/",
          "height": 87
        }
      },
      "source": [
        "print(\"After vectorizations the shape of the data changes : it would be a spare matix form\")\n",
        "print(X_train_school_state .shape, y_train.shape)\n",
        "print(X_cv_school_state .shape, y_cv.shape)\n",
        "print(X_test_school_state .shape, y_test.shape)\n"
      ],
      "execution_count": 27,
      "outputs": [
        {
          "output_type": "stream",
          "text": [
            "After vectorizations the shape of the data changes : it would be a spare matix form\n",
            "(22445, 51) (22445,)\n",
            "(11055, 51) (11055,)\n",
            "(16500, 51) (16500,)\n"
          ],
          "name": "stdout"
        }
      ]
    },
    {
      "cell_type": "code",
      "metadata": {
        "id": "r4JW0X2iskeN",
        "colab_type": "code",
        "outputId": "93843e21-f188-4880-d65a-568a5121f93f",
        "colab": {
          "base_uri": "https://localhost:8080/",
          "height": 35
        }
      },
      "source": [
        "# here i am converting the clean_grade into vectors \n",
        "#Fillna is used to fill all he spaces that are present in the data coloumn\n",
        "#https://stackoverflow.com/questions/42224700/attributeerror-float-object-has-no-attribute-split\n",
        "dft['clean_grade']=dft['clean_grade'].fillna(\"\")# fill the nulll values with space\n",
        "\n",
        "## here i am using the data from the unsplitted data as there as small number of values and may not present in the X_train data\n",
        "#  so i am fitting it withe original data then converting into vectors \n",
        "from sklearn.feature_extraction.text import CountVectorizer\n",
        "vectorizer4 = CountVectorizer(vocabulary=list(sorted_project_grade_category_dict.keys()), lowercase=False, binary=True)\n",
        "vectorizer4.fit(dft['clean_grade'].values)\n",
        "\n",
        "# firstly convert fit the train data into the vectoriaer then it learn hte vocablery\n",
        "\n",
        "# we use the fitted CountVectorizer to convert the text to vector\n",
        "X_train_project_grade_category = vectorizer4.transform(X_train['clean_grade'].values)\n",
        "X_cv_project_grade_category = vectorizer4.transform(X_cv['clean_grade'].values)\n",
        "X_test_project_grade_category = vectorizer4.transform(X_test['clean_grade'].values)\n",
        "\n",
        "print(vectorizer4.get_feature_names())"
      ],
      "execution_count": 28,
      "outputs": [
        {
          "output_type": "stream",
          "text": [
            "['9-12', '6-8', '3-5', 'PreK-2']\n"
          ],
          "name": "stdout"
        }
      ]
    },
    {
      "cell_type": "code",
      "metadata": {
        "id": "p1fnrcB_tR5T",
        "colab_type": "code",
        "outputId": "96fdab06-7c0f-4990-a889-84cd75aaee59",
        "colab": {
          "base_uri": "https://localhost:8080/",
          "height": 87
        }
      },
      "source": [
        "print(\"After vectorizations the shape of the data changes : it would be a spare matix form\")\n",
        "print(X_train_project_grade_category  .shape, y_train.shape)\n",
        "print(X_cv_project_grade_category  .shape, y_cv.shape)\n",
        "print(X_test_project_grade_category  .shape, y_test.shape)\n"
      ],
      "execution_count": 29,
      "outputs": [
        {
          "output_type": "stream",
          "text": [
            "After vectorizations the shape of the data changes : it would be a spare matix form\n",
            "(22445, 4) (22445,)\n",
            "(11055, 4) (11055,)\n",
            "(16500, 4) (16500,)\n"
          ],
          "name": "stdout"
        }
      ]
    },
    {
      "cell_type": "code",
      "metadata": {
        "id": "ZS3pC8RPtYWl",
        "colab_type": "code",
        "outputId": "ffb48107-0d50-4666-8984-5980b67fe1e2",
        "colab": {
          "base_uri": "https://localhost:8080/",
          "height": 35
        }
      },
      "source": [
        "##https://stackoverflow.com/questions/42224700/attributeerror-float-object-has-no-attribute-split\n",
        "dft['teacher_prefix']=dft['teacher_prefix'].fillna(\" \")# filll the null values with space\n",
        "my_counter = Counter()\n",
        "for word in dft['teacher_prefix'].values:\n",
        "    my_counter.update(word.split())\n",
        "    \n",
        "# dict sort by value python: https://stackoverflow.com/a/613218/4084039\n",
        "teacher_cat_dict = dict(my_counter)\n",
        "sorted_teacher_prefix_dict = dict(sorted(teacher_cat_dict.items(), key=lambda kv: kv[1]))\n",
        "## here i am using the data from the unsplitted data as there as small number of values and may not present in the X_train data\n",
        "#  so i am fitting it withe original data then converting into vectors \n",
        "# after counting the frequency of the words we then transform into vectors \n",
        "from sklearn.feature_extraction.text import CountVectorizer\n",
        "vectorizer5 = CountVectorizer(vocabulary=list(sorted_teacher_prefix_dict.keys()), lowercase=False, binary=True)\n",
        "vectorizer5.fit(dft['teacher_prefix'].values.astype('U'))\n",
        "\n",
        "#  the fitted CountVectorizer to convert the text to vector\n",
        "X_train_teacher_prefix = vectorizer5.transform(X_train['teacher_prefix'].values.astype('U'))\n",
        "X_cv_teacher_prefix= vectorizer5.transform(X_cv['teacher_prefix'].values.astype('U'))\n",
        "X_test_teacher_prefix = vectorizer5.transform(X_test['teacher_prefix'].values.astype('U'))\n",
        "\n",
        "print(vectorizer5.get_feature_names())\n",
        "\n",
        "\n",
        "# when i executeed this error comes\n",
        "#np.nan is an invalid document, expected byte or unicode string.\n",
        "# then iconvert to unicode just write .astype('U') after the .values in fit and transform\n",
        "#https://stackoverflow.com/questions/39303912/tfidfvectorizer-in-scikit-learn-valueerror-np-nan-is-an-invalid-document"
      ],
      "execution_count": 30,
      "outputs": [
        {
          "output_type": "stream",
          "text": [
            "['Dr.', 'Teacher', 'Mr.', 'Ms.', 'Mrs.']\n"
          ],
          "name": "stdout"
        }
      ]
    },
    {
      "cell_type": "code",
      "metadata": {
        "id": "Yp5pKdGouMb_",
        "colab_type": "code",
        "outputId": "d3f6825f-8678-4cbf-b947-f37a3d5d3686",
        "colab": {
          "base_uri": "https://localhost:8080/",
          "height": 104
        }
      },
      "source": [
        "print(\"After vectorizations the shape of the data changes : it would be a spare matix form\")\n",
        "print(X_train_teacher_prefix.shape, y_train.shape)\n",
        "print(X_cv_teacher_prefix.shape, y_cv.shape)\n",
        "print(X_test_teacher_prefix.shape, y_test.shape)\n",
        "print(\"=\"*100)"
      ],
      "execution_count": 31,
      "outputs": [
        {
          "output_type": "stream",
          "text": [
            "After vectorizations the shape of the data changes : it would be a spare matix form\n",
            "(22445, 5) (22445,)\n",
            "(11055, 5) (11055,)\n",
            "(16500, 5) (16500,)\n",
            "====================================================================================================\n"
          ],
          "name": "stdout"
        }
      ]
    },
    {
      "cell_type": "markdown",
      "metadata": {
        "id": "Sp6pu4sGulsa",
        "colab_type": "text"
      },
      "source": [
        "## 3.1 BOW Vectorization of the data : Processed essay and Project titles"
      ]
    },
    {
      "cell_type": "code",
      "metadata": {
        "id": "Tz7BEU5wvrG3",
        "colab_type": "code",
        "colab": {}
      },
      "source": [
        "# i am assigning the values of diffrent preprocessing to avoid confusion \n",
        "# Changing the termonilogy \n",
        "X_train_essay=preprocessed_essays_train\n",
        "X_cv_essay=preprocessed_essays_cv\n",
        "X_test_essay=preprocessed_essays_test"
      ],
      "execution_count": 0,
      "outputs": []
    },
    {
      "cell_type": "code",
      "metadata": {
        "id": "CnHJL7ZpuTa-",
        "colab_type": "code",
        "outputId": "efc88bf3-11d1-49d9-acf2-4ba7f6fd8bcc",
        "colab": {
          "base_uri": "https://localhost:8080/",
          "height": 104
        }
      },
      "source": [
        "vectorizer6 = CountVectorizer(min_df=10,max_features=5000,ngram_range=(1, 2))\n",
        "# here i am using the DF to be 10 and max features to be 5000 and uni and bi grams , refrence given below\n",
        "# https://scikit-learn.org/stable/modules/generated/sklearn.feature_extraction.text.CountVectorizer.html\n",
        "vectorizer6.fit(X_train_essay)\n",
        "\n",
        "# we use the fitted CountVectorizer to convert the text to vector\n",
        "X_train_bow = vectorizer6.transform(X_train_essay)\n",
        "X_cv_bow = vectorizer6.transform(X_cv_essay)\n",
        "X_test_bow = vectorizer6.transform(X_test_essay)\n",
        "\n",
        "print(\"After vectorizations the shape of the data changes : it would be a spare matix form\")\n",
        "print(X_train_bow.shape, y_train.shape)\n",
        "print(X_cv_bow.shape, y_cv.shape)\n",
        "print(X_test_bow.shape, y_test.shape)\n",
        "print(\"so the dimension of all are the same and there will be no data leakage\") \n",
        "# print(vectorizer6.get_feature_names())"
      ],
      "execution_count": 33,
      "outputs": [
        {
          "output_type": "stream",
          "text": [
            "After vectorizations the shape of the data changes : it would be a spare matix form\n",
            "(22445, 5000) (22445,)\n",
            "(11055, 5000) (11055,)\n",
            "(16500, 5000) (16500,)\n",
            "so the dimension of all are the same and there will be no data leakage\n"
          ],
          "name": "stdout"
        }
      ]
    },
    {
      "cell_type": "code",
      "metadata": {
        "id": "VV3YAsvBw3BQ",
        "colab_type": "code",
        "colab": {}
      },
      "source": [
        "# i am assigning the values of diffrent preprocessing to avoid confusion \n",
        "# Changing the termonilogy \n",
        "X_train_title=preprocessed_titles_train\n",
        "X_cv_title=preprocessed_titles_cv\n",
        "X_test_title=preprocessed_titles_test"
      ],
      "execution_count": 0,
      "outputs": []
    },
    {
      "cell_type": "code",
      "metadata": {
        "id": "N69sL1Bkwit2",
        "colab_type": "code",
        "outputId": "6dcfcd2d-7dd0-4355-9230-f2b83923cb86",
        "colab": {
          "base_uri": "https://localhost:8080/",
          "height": 104
        }
      },
      "source": [
        "# Project title BOW\n",
        "vectorizer7 = CountVectorizer(min_df=10,max_features=5000,ngram_range=(1, 2))\n",
        "vectorizer7.fit(X_train_title)\n",
        "# here i am using the DF to be 10 and max features to be 5000 and uni and bi grams , refrence given below\n",
        "# https://scikit-learn.org/stable/modules/generated/sklearn.feature_extraction.text.CountVectorizer.html\n",
        "X_train_bow_title = vectorizer7.transform(X_train_title)\n",
        "X_cv_bow_title= vectorizer7.transform(X_cv_title)\n",
        "X_test_bow_title = vectorizer7.transform(X_test_title)\n",
        "\n",
        "print(\"After vectorizations the shape of the data changes : it would be a spare matix form\")\n",
        "print(X_train_bow_title.shape, y_train.shape)\n",
        "print(X_cv_bow_title.shape, y_cv.shape)\n",
        "print(X_test_bow_title.shape, y_test.shape)\n",
        "print(\"so the dimension of all are the same and there will be no data leakage\") \n"
      ],
      "execution_count": 35,
      "outputs": [
        {
          "output_type": "stream",
          "text": [
            "After vectorizations the shape of the data changes : it would be a spare matix form\n",
            "(22445, 1619) (22445,)\n",
            "(11055, 1619) (11055,)\n",
            "(16500, 1619) (16500,)\n",
            "so the dimension of all are the same and there will be no data leakage\n"
          ],
          "name": "stdout"
        }
      ]
    },
    {
      "cell_type": "markdown",
      "metadata": {
        "id": "Gk403fFS50D7",
        "colab_type": "text"
      },
      "source": [
        "## 3.2 TFIDF Vectorization of the data : Processed essay and Project titles"
      ]
    },
    {
      "cell_type": "code",
      "metadata": {
        "id": "eeg2Ypph55Wn",
        "colab_type": "code",
        "outputId": "1fa50381-8c54-4c1a-89ec-f1f2ff4d74b5",
        "colab": {
          "base_uri": "https://localhost:8080/",
          "height": 104
        }
      },
      "source": [
        "from sklearn.feature_extraction.text import TfidfVectorizer\n",
        "# We are considering only the words which appeared in at least 10 documents and max of 5000 features .\n",
        "vectorizer8 = TfidfVectorizer(min_df=10,max_features=5000,ngram_range=(1, 2))\n",
        "vectorizer8.fit(X_train_title)# that is learned from trainned  data\n",
        "\n",
        "\n",
        "# we use the fitted CountVectorizer to convert the text to vector\n",
        "X_train_tf_title = vectorizer8.transform(X_train_title)\n",
        "X_cv_tf_title= vectorizer8.transform(X_cv_title)\n",
        "X_test_tf_title = vectorizer8.transform(X_test_title)\n",
        "\n",
        "print(\"After vectorizations the shape of the data changes : it would be a spare matix form\")\n",
        "print(X_train_tf_title.shape, y_train.shape)\n",
        "print(X_cv_tf_title.shape, y_cv.shape)\n",
        "print(X_test_tf_title.shape, y_test.shape)\n",
        "print(\"so the dimension of all are the same and there will be no data leakage\") "
      ],
      "execution_count": 36,
      "outputs": [
        {
          "output_type": "stream",
          "text": [
            "After vectorizations the shape of the data changes : it would be a spare matix form\n",
            "(22445, 1619) (22445,)\n",
            "(11055, 1619) (11055,)\n",
            "(16500, 1619) (16500,)\n",
            "so the dimension of all are the same and there will be no data leakage\n"
          ],
          "name": "stdout"
        }
      ]
    },
    {
      "cell_type": "code",
      "metadata": {
        "id": "ddBxZEw-66VQ",
        "colab_type": "code",
        "outputId": "4b0c1098-f6d9-40f7-d38b-64864fabefd6",
        "colab": {
          "base_uri": "https://localhost:8080/",
          "height": 104
        }
      },
      "source": [
        "#for essay\n",
        "from sklearn.feature_extraction.text import TfidfVectorizer\n",
        "# We are considering only the words which appeared in at least 10 documents(rows or projects).\n",
        "vectorizer9 = TfidfVectorizer(min_df=10,max_features=5000,ngram_range=(1, 2))# its a countvectors used for convert text to vectors\n",
        "vectorizer9.fit(X_train_essay)# that is learned from trainned  data\n",
        "\n",
        "\n",
        "\n",
        "# we use the fitted CountVectorizer to convert the text to vector\n",
        "X_train_tf_essay = vectorizer9.transform(X_train_essay)\n",
        "X_cv_tf_essay= vectorizer9.transform(X_cv_essay)\n",
        "X_test_tf_essay = vectorizer9.transform(X_test_essay)\n",
        "\n",
        "\n",
        "\n",
        "print(\"After vectorizations\")\n",
        "print(X_train_tf_essay.shape, y_train.shape)\n",
        "print(X_cv_tf_essay.shape, y_cv.shape)\n",
        "print(X_test_tf_essay.shape, y_test.shape)\n",
        "print(\"=\"*100)\n",
        "# so the dimension of alll are the same by using first fit and then transform\n"
      ],
      "execution_count": 37,
      "outputs": [
        {
          "output_type": "stream",
          "text": [
            "After vectorizations\n",
            "(22445, 5000) (22445,)\n",
            "(11055, 5000) (11055,)\n",
            "(16500, 5000) (16500,)\n",
            "====================================================================================================\n"
          ],
          "name": "stdout"
        }
      ]
    },
    {
      "cell_type": "markdown",
      "metadata": {
        "id": "zDfdB3vp8Py3",
        "colab_type": "text"
      },
      "source": [
        "## 3.3 AVG W2V Vectorization of the data : Processed essay and Project titles"
      ]
    },
    {
      "cell_type": "code",
      "metadata": {
        "id": "zq8DhtHS8gK3",
        "colab_type": "code",
        "outputId": "bf937f30-a081-4622-93c7-45ca692fde13",
        "colab": {
          "base_uri": "https://localhost:8080/",
          "height": 104
        }
      },
      "source": [
        "import gdown\n",
        "\n",
        "url = 'https://drive.google.com/uc?id=1MqUasf7jYoPbG35MJ28VQcOjjNp-ZDDp'\n",
        "output = 'glove_vectors'\n",
        "gdown.download(url, output, quiet=False)"
      ],
      "execution_count": 38,
      "outputs": [
        {
          "output_type": "stream",
          "text": [
            "Downloading...\n",
            "From: https://drive.google.com/uc?id=1MqUasf7jYoPbG35MJ28VQcOjjNp-ZDDp\n",
            "To: /content/glove_vectors\n",
            "128MB [00:02, 63.3MB/s]\n"
          ],
          "name": "stderr"
        },
        {
          "output_type": "execute_result",
          "data": {
            "text/plain": [
              "'glove_vectors'"
            ]
          },
          "metadata": {
            "tags": []
          },
          "execution_count": 38
        }
      ]
    },
    {
      "cell_type": "code",
      "metadata": {
        "id": "CyC54JqP8GW4",
        "colab_type": "code",
        "colab": {}
      },
      "source": [
        "import pickle\n",
        "with open('glove_vectors', 'rb') as f:\n",
        "    model = pickle.load(f)\n",
        "    glove_words =  set(model.keys())"
      ],
      "execution_count": 0,
      "outputs": []
    },
    {
      "cell_type": "code",
      "metadata": {
        "id": "SzysXEWb9PVB",
        "colab_type": "code",
        "colab": {}
      },
      "source": [
        "def AVG_W2V(values):\n",
        "# AVG W2V Vectorization. \n",
        "\n",
        "  train_avg_w2v_vectors = []; # the avg-w2v for each sentence/review is stored in this list\n",
        "  for sentence in tqdm(values): # for each review/sentence\n",
        "    vector = np.zeros(300) # as word vectors are of zero length    # we are taking the 300 dimensions  very large\n",
        "    cnt_words =0; # num of words with a valid vector in the sentence/review\n",
        "    for word in sentence.split(): # for each word in a review/sentence\n",
        "        if word in glove_words:\n",
        "            vector += model[word]\n",
        "            cnt_words += 1\n",
        "    if cnt_words != 0:\n",
        "        vector /= cnt_words\n",
        "    train_avg_w2v_vectors.append(vector)\n",
        "\n",
        "  print(len(train_avg_w2v_vectors))\n",
        "  print(len(train_avg_w2v_vectors[0]))\n",
        "  return train_avg_w2v_vectors\n"
      ],
      "execution_count": 0,
      "outputs": []
    },
    {
      "cell_type": "code",
      "metadata": {
        "id": "j9xaSYDg-HGa",
        "colab_type": "code",
        "outputId": "8506c81f-7c7f-49bd-dc22-8baf01d09958",
        "colab": {
          "base_uri": "https://localhost:8080/",
          "height": 173
        }
      },
      "source": [
        "train_avg_w2v_vectors=AVG_W2V(preprocessed_essays_train)\n",
        "test_avg_w2v_vectors=AVG_W2V(preprocessed_essays_test)\n",
        "cv_avg_w2v_vectors=AVG_W2V(preprocessed_essays_cv)"
      ],
      "execution_count": 41,
      "outputs": [
        {
          "output_type": "stream",
          "text": [
            "100%|██████████| 22445/22445 [00:05<00:00, 3863.97it/s]\n",
            "  2%|▏         | 363/16500 [00:00<00:04, 3627.11it/s]"
          ],
          "name": "stderr"
        },
        {
          "output_type": "stream",
          "text": [
            "22445\n",
            "300\n"
          ],
          "name": "stdout"
        },
        {
          "output_type": "stream",
          "text": [
            "100%|██████████| 16500/16500 [00:04<00:00, 3752.85it/s]\n",
            "  3%|▎         | 382/11055 [00:00<00:02, 3810.13it/s]"
          ],
          "name": "stderr"
        },
        {
          "output_type": "stream",
          "text": [
            "16500\n",
            "300\n"
          ],
          "name": "stdout"
        },
        {
          "output_type": "stream",
          "text": [
            "100%|██████████| 11055/11055 [00:02<00:00, 3764.67it/s]"
          ],
          "name": "stderr"
        },
        {
          "output_type": "stream",
          "text": [
            "11055\n",
            "300\n"
          ],
          "name": "stdout"
        },
        {
          "output_type": "stream",
          "text": [
            "\n"
          ],
          "name": "stderr"
        }
      ]
    },
    {
      "cell_type": "code",
      "metadata": {
        "id": "jWiuZXmS-tNz",
        "colab_type": "code",
        "outputId": "e03eba79-fd69-44e8-9668-2afee982cb65",
        "colab": {
          "base_uri": "https://localhost:8080/",
          "height": 173
        }
      },
      "source": [
        "#  AVG W2V for preprocessed_titles\n",
        "train_avg_w2v_vectors_title=AVG_W2V(preprocessed_titles_train)\n",
        "test_avg_w2v_vectors_title=AVG_W2V(preprocessed_titles_test)\n",
        "cv_avg_w2v_vectors_title=AVG_W2V(preprocessed_titles_cv)\n"
      ],
      "execution_count": 42,
      "outputs": [
        {
          "output_type": "stream",
          "text": [
            "100%|██████████| 22445/22445 [00:00<00:00, 64309.34it/s]\n",
            " 41%|████      | 6771/16500 [00:00<00:00, 67703.77it/s]"
          ],
          "name": "stderr"
        },
        {
          "output_type": "stream",
          "text": [
            "22445\n",
            "300\n"
          ],
          "name": "stdout"
        },
        {
          "output_type": "stream",
          "text": [
            "100%|██████████| 16500/16500 [00:00<00:00, 66732.51it/s]\n",
            "100%|██████████| 11055/11055 [00:00<00:00, 65830.20it/s]"
          ],
          "name": "stderr"
        },
        {
          "output_type": "stream",
          "text": [
            "16500\n",
            "300\n",
            "11055\n",
            "300\n"
          ],
          "name": "stdout"
        },
        {
          "output_type": "stream",
          "text": [
            "\n"
          ],
          "name": "stderr"
        }
      ]
    },
    {
      "cell_type": "markdown",
      "metadata": {
        "id": "U9ZKq2BN_CfW",
        "colab_type": "text"
      },
      "source": [
        "### 3.4 TFIDF weighted W2V vectorization using the Pretrained Models"
      ]
    },
    {
      "cell_type": "code",
      "metadata": {
        "id": "7UUm6MYY-_fR",
        "colab_type": "code",
        "colab": {}
      },
      "source": [
        "#here i am converting the dictionary with word as a key, and the idf as a value for the vectorization processes \n",
        "tfidf_model = TfidfVectorizer()\n",
        "tfidf_model.fit(preprocessed_essays_train)\n",
        "dictionary = dict(zip(tfidf_model.get_feature_names(), list(tfidf_model.idf_)))\n",
        "tfidf_words = set(tfidf_model.get_feature_names())"
      ],
      "execution_count": 0,
      "outputs": []
    },
    {
      "cell_type": "code",
      "metadata": {
        "id": "CLuQBX4E_UXL",
        "colab_type": "code",
        "colab": {}
      },
      "source": [
        "# average Word2Vec\n",
        "# compute average word2vec for each review.\n",
        "def tf_idf_done(word_list):\n",
        "  \n",
        "  train_title_tfidf_w2v_vectors = []; # the avg-w2v for each sentence/review is stored in this list\n",
        "  for sentence in tqdm(word_list): # for each review/sentence\n",
        "    vector = np.zeros(300) # as word vectors are of zero length\n",
        "    tf_idf_weight =0; # num of words with a valid vector in the sentence/review\n",
        "    for word in sentence.split():#.split(): # for each word in a review/sentence\n",
        "        if (word in glove_words) and (word in tfidf_words):\n",
        "            vec = model[word] # getting the vector for each word\n",
        "            # here we are multiplying idf value(dictionary[word]) and the tf value((sentence.count(word)/len(sentence.split())))\n",
        "            tf_idf = dictionary[word]*(sentence.count(word)/len(sentence.split())) # getting the tfidf value for each word\n",
        "            vector += (vec * tf_idf) # calculating tfidf weighted w2v\n",
        "            tf_idf_weight += tf_idf\n",
        "    if tf_idf_weight != 0:\n",
        "        vector /= tf_idf_weight\n",
        "    train_title_tfidf_w2v_vectors.append(vector)\n",
        "\n",
        "  print(len(train_title_tfidf_w2v_vectors))\n",
        "  print(len(train_title_tfidf_w2v_vectors[0]))\n",
        "  return train_title_tfidf_w2v_vectors"
      ],
      "execution_count": 0,
      "outputs": []
    },
    {
      "cell_type": "code",
      "metadata": {
        "id": "aE4v1ecm_fne",
        "colab_type": "code",
        "outputId": "0287e552-8f83-4d40-e8ec-7ee3507c37ed",
        "colab": {
          "base_uri": "https://localhost:8080/",
          "height": 173
        }
      },
      "source": [
        "# Vectorization the Processed titles \n",
        "train_title_tfidf_w2v_vectors=tf_idf_done(preprocessed_titles_train)\n",
        "test_title_tfidf_w2v_vectors=tf_idf_done(preprocessed_titles_test)\n",
        "cv_title_tfidf_w2v_vectors=tf_idf_done(preprocessed_titles_cv)"
      ],
      "execution_count": 45,
      "outputs": [
        {
          "output_type": "stream",
          "text": [
            "100%|██████████| 22445/22445 [00:00<00:00, 33230.60it/s]\n",
            " 23%|██▎       | 3765/16500 [00:00<00:00, 37645.91it/s]"
          ],
          "name": "stderr"
        },
        {
          "output_type": "stream",
          "text": [
            "22445\n",
            "300\n"
          ],
          "name": "stdout"
        },
        {
          "output_type": "stream",
          "text": [
            "100%|██████████| 16500/16500 [00:00<00:00, 35520.68it/s]\n",
            " 33%|███▎      | 3682/11055 [00:00<00:00, 36810.82it/s]"
          ],
          "name": "stderr"
        },
        {
          "output_type": "stream",
          "text": [
            "16500\n",
            "300\n"
          ],
          "name": "stdout"
        },
        {
          "output_type": "stream",
          "text": [
            "100%|██████████| 11055/11055 [00:00<00:00, 35964.09it/s]"
          ],
          "name": "stderr"
        },
        {
          "output_type": "stream",
          "text": [
            "11055\n",
            "300\n"
          ],
          "name": "stdout"
        },
        {
          "output_type": "stream",
          "text": [
            "\n"
          ],
          "name": "stderr"
        }
      ]
    },
    {
      "cell_type": "code",
      "metadata": {
        "id": "UNJqSisr_nLx",
        "colab_type": "code",
        "outputId": "0dfc6b4b-b1d2-4277-94c0-e0417503cf36",
        "colab": {
          "base_uri": "https://localhost:8080/",
          "height": 173
        }
      },
      "source": [
        "# Vectrozation of the preprocessed_essays\n",
        "train_tfidf_w2v_vectors=tf_idf_done(preprocessed_essays_train)\n",
        "test_tfidf_w2v_vectors=tf_idf_done(preprocessed_essays_test)\n",
        "cv_tfidf_w2v_vectors=tf_idf_done(preprocessed_essays_cv)"
      ],
      "execution_count": 46,
      "outputs": [
        {
          "output_type": "stream",
          "text": [
            "100%|██████████| 22445/22445 [00:37<00:00, 602.21it/s]\n",
            "  0%|          | 59/16500 [00:00<00:28, 579.82it/s]"
          ],
          "name": "stderr"
        },
        {
          "output_type": "stream",
          "text": [
            "22445\n",
            "300\n"
          ],
          "name": "stdout"
        },
        {
          "output_type": "stream",
          "text": [
            "100%|██████████| 16500/16500 [00:27<00:00, 605.52it/s]\n",
            "  1%|          | 59/11055 [00:00<00:18, 583.36it/s]"
          ],
          "name": "stderr"
        },
        {
          "output_type": "stream",
          "text": [
            "16500\n",
            "300\n"
          ],
          "name": "stdout"
        },
        {
          "output_type": "stream",
          "text": [
            "100%|██████████| 11055/11055 [00:18<00:00, 597.67it/s]"
          ],
          "name": "stderr"
        },
        {
          "output_type": "stream",
          "text": [
            "11055\n",
            "300\n"
          ],
          "name": "stdout"
        },
        {
          "output_type": "stream",
          "text": [
            "\n"
          ],
          "name": "stderr"
        }
      ]
    },
    {
      "cell_type": "markdown",
      "metadata": {
        "id": "V42b-JXP_yGQ",
        "colab_type": "text"
      },
      "source": [
        "### 4. 1 Vectorization of the  Numerical features \n"
      ]
    },
    {
      "cell_type": "code",
      "metadata": {
        "id": "Zr8uWLZmAJHO",
        "colab_type": "code",
        "outputId": "ed24fc46-24c4-4dfc-d9d3-263208365f94",
        "colab": {
          "base_uri": "https://localhost:8080/",
          "height": 156
        }
      },
      "source": [
        "#  there are 2 numerical features in the Resources data.csv so have to merge th dataframes \n",
        "price_data = dfr.groupby('id').agg({'price':'sum', 'quantity':'sum'}).reset_index()\n",
        "dft = pd.merge(dft, price_data, on='id', how='left')\n",
        "print(price_data.head(7))\n",
        "\n",
        "# same has to be done foe the train and test data \n",
        "X_train = pd.merge(X_train, price_data, on = \"id\", how = \"left\")\n",
        "X_test = pd.merge(X_test, price_data, on = \"id\", how = \"left\")\n",
        "X_cv = pd.merge(X_cv, price_data, on = \"id\", how = \"left\")"
      ],
      "execution_count": 47,
      "outputs": [
        {
          "output_type": "stream",
          "text": [
            "        id    price  quantity\n",
            "0  p000001   459.56         7\n",
            "1  p000002   515.89        21\n",
            "2  p000003   298.97         4\n",
            "3  p000004  1113.69        98\n",
            "4  p000005   485.99         8\n",
            "5  p000006   130.62         5\n",
            "6  p000007   157.98         6\n"
          ],
          "name": "stdout"
        }
      ]
    },
    {
      "cell_type": "code",
      "metadata": {
        "id": "EqN82EgWA1FH",
        "colab_type": "code",
        "colab": {}
      },
      "source": [
        "from sklearn.preprocessing import StandardScaler\n",
        "# https://scikit-learn.org/stable/modules/generated/sklearn.preprocessing.StandardScaler.html\n",
        "\n",
        "scalar =  StandardScaler()\n",
        "scalar.fit(X_train['price'].values.reshape(-1,1))\n",
        "\n",
        "train_price_standar = scalar.transform(X_train['price'].values.reshape(-1, 1))\n",
        "test_price_standar = scalar.transform(X_test['price'].values.reshape(-1, 1))\n",
        "cv_price_standar = scalar.transform(X_cv['price'].values.reshape(-1, 1))"
      ],
      "execution_count": 0,
      "outputs": []
    },
    {
      "cell_type": "code",
      "metadata": {
        "id": "RqWeK41FC6fX",
        "colab_type": "code",
        "colab": {}
      },
      "source": [
        "scalar.fit(X_train['teacher_number_of_previously_posted_projects'].values.reshape(-1,1))\n",
        "train_prev_proj_standar = scalar.transform(X_train['teacher_number_of_previously_posted_projects'].values.reshape(-1, 1))\n",
        "test_prev_proj_standar = scalar.transform(X_test['teacher_number_of_previously_posted_projects'].values.reshape(-1, 1))\n",
        "cv_prev_proj_standar = scalar.transform(X_cv['teacher_number_of_previously_posted_projects'].values.reshape(-1, 1))\n",
        "\n"
      ],
      "execution_count": 0,
      "outputs": []
    },
    {
      "cell_type": "code",
      "metadata": {
        "id": "0bpMxJeEDFTO",
        "colab_type": "code",
        "colab": {}
      },
      "source": [
        "scalar.fit(X_train['quantity'].values.reshape(-1,1))\n",
        "train_qnty_standar = scalar.transform(X_train['quantity'].values.reshape(-1, 1))\n",
        "cv_qnty_standar = scalar.transform(X_cv['quantity'].values.reshape(-1, 1))\n",
        "test_qnty_standar = scalar.transform(X_test['quantity'].values.reshape(-1, 1))\n"
      ],
      "execution_count": 0,
      "outputs": []
    },
    {
      "cell_type": "markdown",
      "metadata": {
        "id": "JWIwk31ODTEp",
        "colab_type": "text"
      },
      "source": [
        "### **Mergaing of all the Data matrix for diffrent sets of opeations **\n",
        "\n",
        "1.   Set 1: categorical, numerical features + project_title(BOW) + preprocessed_eassay (`BOW with bi-grams` with `min_df=10` and max_features=5000`)\n",
        "2.   Set 2: categorical, numerical features + project_title(TFIDF)+ preprocessed_eassay (`TFIDF with bi-grams` with `min_df=10` and `max_features=5000`)\n",
        "3.   Set 3: categorical, numerical features + project_title(AVG W2V)+ preprocessed_eassay (AVG W2V)\n",
        "4.   Set 4: categorical, numerical features + project_title(TFIDF W2V)+ preprocessed_essay (TFIDF W2V)\n",
        "\n",
        "\n"
      ]
    },
    {
      "cell_type": "markdown",
      "metadata": {
        "id": "D1bDRCWCFmei",
        "colab_type": "text"
      },
      "source": [
        "Set 1: categorical, numerical features + project_title(BOW) + preprocessed_eassay (BOW with bi-grams with min_df=10 and max_features=5000`)"
      ]
    },
    {
      "cell_type": "code",
      "metadata": {
        "id": "SF1F_H6aDSm-",
        "colab_type": "code",
        "outputId": "2933a34d-d89c-4f89-bfa0-97e6d9aa299b",
        "colab": {
          "base_uri": "https://localhost:8080/",
          "height": 69
        }
      },
      "source": [
        "from scipy.sparse import hstack\n",
        "# with the same hstack function we are concatinating a sparse matrix and a dense matirx :)\n",
        "X_set1_train = hstack((X_train_bow_title,X_train_bow,X_train_teacher_prefix,X_train_cat,X_train_subcat ,X_train_project_grade_category,\\\n",
        "                       X_train_school_state,train_qnty_standar,train_price_standar,train_prev_proj_standar))\n",
        "# printing the shape of X_set1_train data metrix\n",
        "print(\" printing the shape of X_set1_train data metrix\",X_set1_train.shape, y_train.shape)\n",
        "\n",
        "X_set1_cv = hstack((X_cv_bow_title,X_cv_bow,X_cv_teacher_prefix,X_cv_cat,X_cv_subcat,X_cv_project_grade_category,X_cv_school_state,\\\n",
        "                    cv_qnty_standar,cv_price_standar,cv_prev_proj_standar))\n",
        "# printing the shape of X_set1_cv data metrix \n",
        "print(\"printing the shape of X_set1_cv data metrix\",X_set1_cv.shape, y_cv.shape)\n",
        "\n",
        "X_set1_test = hstack((X_test_bow_title,X_test_bow,X_test_teacher_prefix,X_test_cat,X_test_subcat,X_test_project_grade_category,X_test_school_state,\n",
        "                      test_qnty_standar,test_price_standar,test_prev_proj_standar))\n",
        "\n",
        "# printing the shape of X_set1_test data metrix \n",
        "print(\"printing the shape of X_set1_test data metrix \",X_set1_test.shape, y_test.shape)\n"
      ],
      "execution_count": 51,
      "outputs": [
        {
          "output_type": "stream",
          "text": [
            " printing the shape of X_set1_train data metrix (22445, 6721) (22445,)\n",
            "printing the shape of X_set1_cv data metrix (11055, 6721) (11055,)\n",
            "printing the shape of X_set1_test data metrix  (16500, 6721) (16500,)\n"
          ],
          "name": "stdout"
        }
      ]
    },
    {
      "cell_type": "markdown",
      "metadata": {
        "id": "BdpSzbFQFr6E",
        "colab_type": "text"
      },
      "source": [
        "Set 2: categorical, numerical features + project_title(TFIDF)+ preprocessed_eassay (TFIDF with bi-grams with min_df=10 and max_features=5000)"
      ]
    },
    {
      "cell_type": "code",
      "metadata": {
        "id": "CR4MNhofFqFn",
        "colab_type": "code",
        "outputId": "db0f57ed-e0b8-4ea4-8bf5-dc9a0b700f5d",
        "colab": {
          "base_uri": "https://localhost:8080/",
          "height": 104
        }
      },
      "source": [
        "X_set2_train = hstack((X_train_tf_essay,X_train_tf_title,X_train_teacher_prefix,X_train_cat,X_train_subcat,X_train_project_grade_category,X_train_school_state,\n",
        "                       train_qnty_standar,train_price_standar,train_prev_proj_standar))\n",
        "\n",
        "\n",
        "print(\"printing the shape of X_set2_train data metrix\",X_set2_train.shape, y_train.shape)\n",
        "\n",
        "print(\"*\"*50)\n",
        "X_set2_cv = hstack((X_cv_tf_essay,X_cv_tf_title,X_cv_teacher_prefix,X_cv_cat,X_cv_subcat,X_cv_project_grade_category,X_cv_school_state,\n",
        "                   cv_qnty_standar,cv_price_standar,cv_prev_proj_standar))\n",
        "\n",
        "print(\"printing the shape of X_set2_cv data metrix\",X_set2_cv.shape, y_cv.shape)\n",
        "\n",
        "print(\"*\"*50)\n",
        "X_set2_test = hstack((X_test_tf_essay,X_test_tf_title,X_test_teacher_prefix,X_test_cat,X_test_subcat, X_test_project_grade_category,X_test_school_state,\n",
        "                     test_qnty_standar,test_price_standar,test_prev_proj_standar))\n",
        "\n",
        "print(\"printing the shape of X_set2_test data metrix\",X_set2_test.shape, y_test.shape)\n",
        "\n"
      ],
      "execution_count": 52,
      "outputs": [
        {
          "output_type": "stream",
          "text": [
            "printing the shape of X_set2_train data metrix (22445, 6721) (22445,)\n",
            "**************************************************\n",
            "printing the shape of X_set2_cv data metrix (11055, 6721) (11055,)\n",
            "**************************************************\n",
            "printing the shape of X_set2_test data metrix (16500, 6721) (16500,)\n"
          ],
          "name": "stdout"
        }
      ]
    },
    {
      "cell_type": "markdown",
      "metadata": {
        "id": "0LhzZliiGkoj",
        "colab_type": "text"
      },
      "source": [
        "Set 3: categorical, numerical features + project_title(AVG W2V)+ preprocessed_eassay (AVG W2V)"
      ]
    },
    {
      "cell_type": "code",
      "metadata": {
        "id": "GTuntIJSGkFE",
        "colab_type": "code",
        "outputId": "99a05aef-9d83-41e4-cd98-5036298b8d1d",
        "colab": {
          "base_uri": "https://localhost:8080/",
          "height": 104
        }
      },
      "source": [
        "X_set3_train = hstack((train_avg_w2v_vectors,train_avg_w2v_vectors_title,train_prev_proj_standar,train_price_standar,train_qnty_standar,\n",
        "                      X_train_teacher_prefix,X_train_cat,X_train_subcat,\n",
        "                      X_train_project_grade_category,X_train_school_state))\n",
        "\n",
        "\n",
        "print(\"printing the shape of X_set3_train data metrix\",X_set3_train.shape, y_train.shape)\n",
        "print(\"*\"*50)\n",
        "\n",
        "X_set3_cv = hstack((cv_avg_w2v_vectors,cv_avg_w2v_vectors_title,cv_prev_proj_standar,cv_price_standar,cv_qnty_standar,\n",
        "                      X_cv_teacher_prefix,X_cv_cat,X_cv_subcat,\n",
        "                      X_cv_project_grade_category,X_cv_school_state))\n",
        "\n",
        "\n",
        "print(\"printing the shape of X_set3_cv data metrix\",X_set3_cv.shape, y_cv.shape)\n",
        "print(\"*\"*50)\n",
        "\n",
        "X_set3_test = hstack((test_avg_w2v_vectors,test_avg_w2v_vectors_title,test_prev_proj_standar,test_price_standar,test_qnty_standar,\n",
        "                      X_test_teacher_prefix,X_test_cat,X_test_subcat,\n",
        "                      X_test_project_grade_category,X_test_school_state))\n",
        "\n",
        "\n",
        "print(\"printing the shape of X_set3_test data metrix\",X_set3_test.shape, y_test.shape)\n",
        "\n"
      ],
      "execution_count": 53,
      "outputs": [
        {
          "output_type": "stream",
          "text": [
            "printing the shape of X_set3_train data metrix (22445, 702) (22445,)\n",
            "**************************************************\n",
            "printing the shape of X_set3_cv data metrix (11055, 702) (11055,)\n",
            "**************************************************\n",
            "printing the shape of X_set3_test data metrix (16500, 702) (16500,)\n"
          ],
          "name": "stdout"
        }
      ]
    },
    {
      "cell_type": "markdown",
      "metadata": {
        "id": "k9YyPmBMHB6J",
        "colab_type": "text"
      },
      "source": [
        "Set 4: categorical, numerical features + project_title(TFIDF W2V)+ preprocessed_essay (TFIDF W2V)"
      ]
    },
    {
      "cell_type": "code",
      "metadata": {
        "id": "K5MSt2iFHH_t",
        "colab_type": "code",
        "outputId": "106dc444-4167-4413-925a-e1f84878abc3",
        "colab": {
          "base_uri": "https://localhost:8080/",
          "height": 104
        }
      },
      "source": [
        "X_set4_train = hstack((train_tfidf_w2v_vectors,train_title_tfidf_w2v_vectors,train_prev_proj_standar,train_price_standar,train_qnty_standar,\n",
        "                      X_train_teacher_prefix,X_train_cat,X_train_subcat,\n",
        "                      X_train_project_grade_category,X_train_school_state))\n",
        "\n",
        "\n",
        "print(\"printing the shape of X_set4_train data metrix\",X_set4_train.shape, y_train.shape)\n",
        "print(\"*\"*50)\n",
        "\n",
        "X_set4_cv = hstack((cv_tfidf_w2v_vectors,cv_title_tfidf_w2v_vectors,cv_prev_proj_standar,cv_price_standar,cv_qnty_standar,\n",
        "                      X_cv_teacher_prefix,X_cv_cat,X_cv_subcat,\n",
        "                      X_cv_project_grade_category,X_cv_school_state))\n",
        "\n",
        "\n",
        "print(\"printing the shape of X_set4_CV data metrix\",X_set4_cv.shape, y_cv.shape)\n",
        "\n",
        "print(\"*\"*50)\n",
        "X_set4_test = hstack((test_title_tfidf_w2v_vectors,test_tfidf_w2v_vectors,test_prev_proj_standar,test_price_standar,test_qnty_standar,\n",
        "                      X_test_teacher_prefix,X_test_cat,X_test_subcat,\n",
        "                      X_test_project_grade_category,X_test_school_state))\n",
        "\n",
        "\n",
        "print(\"printing the shape of X_set4_test data metrix\",X_set4_test.shape, y_test.shape)"
      ],
      "execution_count": 54,
      "outputs": [
        {
          "output_type": "stream",
          "text": [
            "printing the shape of X_set4_train data metrix (22445, 702) (22445,)\n",
            "**************************************************\n",
            "printing the shape of X_set4_CV data metrix (11055, 702) (11055,)\n",
            "**************************************************\n",
            "printing the shape of X_set4_test data metrix (16500, 702) (16500,)\n"
          ],
          "name": "stdout"
        }
      ]
    },
    {
      "cell_type": "markdown",
      "metadata": {
        "id": "fWiECNh8H45p",
        "colab_type": "text"
      },
      "source": [
        "### Applying the Logistic Regression model  on SET:1"
      ]
    },
    {
      "cell_type": "code",
      "metadata": {
        "id": "hKPfYuI3IRPl",
        "colab_type": "code",
        "outputId": "3446769e-c006-442c-f358-814f6f66df38",
        "colab": {
          "base_uri": "https://localhost:8080/",
          "height": 299
        }
      },
      "source": [
        "import warnings\n",
        "warnings.filterwarnings('ignore')\n",
        "from sklearn.metrics import roc_auc_score\n",
        "import matplotlib.pyplot as plt\n",
        "from sklearn.linear_model import LogisticRegression\n",
        "from sklearn.model_selection import learning_curve, GridSearchCV\n",
        "\n",
        "\n",
        "clf = LogisticRegression(class_weight='balanced');\n",
        "parameters ={'C':[10**-4, 10**-3,10**-2,1,10,100,1000,500,1000,10000]}\n",
        "sd=GridSearchCV(clf, parameters, cv=5, scoring='roc_auc',return_train_score=True)\n",
        "sd.fit(X_set1_train, y_train);\n",
        "\n",
        "\n",
        "train_auc= sd.cv_results_['mean_train_score']\n",
        "train_auc_std= sd.cv_results_['std_train_score']\n",
        "cv_auc = sd.cv_results_['mean_test_score'] \n",
        "cv_auc_std= sd.cv_results_['std_test_score']\n",
        "\n",
        "plt.plot(parameters['C'], train_auc, label='Train AUC')\n",
        "# this code is copied from here: https://stackoverflow.com/a/48803361/4084039\n",
        "plt.gca().fill_between(parameters['C'],train_auc - train_auc_std,train_auc + train_auc_std,alpha=0.2,color='darkblue')\n",
        "\n",
        "plt.plot(parameters['C'], cv_auc, label='CV AUC')\n",
        "# this code is copied from here: https://stackoverflow.com/a/48803361/4084039\n",
        "plt.gca().fill_between(parameters['C'],cv_auc - cv_auc_std,cv_auc + cv_auc_std,alpha=0.2,color='darkorange')\n",
        "\n",
        "plt.scatter(parameters['C'], train_auc, label='Train AUC points')\n",
        "plt.scatter(parameters['C'], cv_auc, label='CV AUC points')\n",
        "plt.xscale('log') \n",
        "\n",
        "plt.legend()\n",
        "plt.xlabel(\"C(1/lambda): hyperparameter\")\n",
        "plt.ylabel(\"AUC\")\n",
        "plt.title(\"ERROR PLOTS\")\n",
        "plt.grid()\n",
        "plt.show()"
      ],
      "execution_count": 55,
      "outputs": [
        {
          "output_type": "display_data",
          "data": {
            "image/png": "[encoded data removed]",
            "text/plain": [
              "<Figure size 432x288 with 1 Axes>"
            ]
          },
          "metadata": {
            "tags": []
          }
        }
      ]
    },
    {
      "cell_type": "code",
      "metadata": {
        "id": "W1Rn6HafIXYY",
        "colab_type": "code",
        "outputId": "2d7db0ab-a3c2-4e1a-84ba-485758ed5b3f",
        "colab": {
          "base_uri": "https://localhost:8080/",
          "height": 295
        }
      },
      "source": [
        "##Fitting Model to Hyper-Parameter Curve\n",
        "# https://scikit-learn.org/stable/modules/generated/sklearn.metrics.roc_curve.html#sklearn.metrics.roc_curve\n",
        "from sklearn.metrics import roc_curve, auc\n",
        "\n",
        "\n",
        "neigh = LogisticRegression(C=10**-3,class_weight='balanced');\n",
        "neigh.fit(X_set1_train ,y_train)\n",
        "# roc_auc_score(y_true, y_score) the 2nd parameter should be probability estimates of the positive class\n",
        "# not the predicted outputs\n",
        "\n",
        "train_fpr, train_tpr, thresholds = roc_curve(y_train, neigh.predict_proba(X_set1_train)[:,1])\n",
        "test_fpr, test_tpr, thresholds = roc_curve(y_test, neigh.predict_proba(X_set1_test)[:,1])\n",
        "\n",
        "plt.plot(train_fpr, train_tpr, label=\"train AUC =\"+str(auc(train_fpr, train_tpr)))\n",
        "plt.plot(test_fpr, test_tpr, label=\"test AUC =\"+str(auc(test_fpr, test_tpr)))\n",
        "plt.legend()\n",
        "plt.ylabel(\"True Positive Rate(TPR)\")\n",
        "plt.xlabel(\"False Positive Rate(FPR)\")\n",
        "plt.title(\"ROC PLOTS\")\n",
        "plt.show()"
      ],
      "execution_count": 56,
      "outputs": [
        {
          "output_type": "display_data",
          "data": {
            "image/png": "[encoded data removed]",
            "text/plain": [
              "<Figure size 432x288 with 1 Axes>"
            ]
          },
          "metadata": {
            "tags": []
          }
        }
      ]
    },
    {
      "cell_type": "code",
      "metadata": {
        "id": "-B1mQAm0IxNO",
        "colab_type": "code",
        "outputId": "537ec96b-f6d4-46b0-ef4d-edbef486e7b2",
        "colab": {
          "base_uri": "https://localhost:8080/",
          "height": 301
        }
      },
      "source": [
        "# Heat map representaion of the Confusion metrix \n",
        "# https://stackoverflow.com/questions/35572000/how-can-i-plot-a-confusion-matrix\n",
        "import seaborn as sns\n",
        "import matplotlib.pyplot as plt     \n",
        "\n",
        "ax= plt.subplot()\n",
        "sns.heatmap(confusion_matrix(y_train, neigh.predict(X_set1_train )), annot=True, ax = ax,fmt='g'); #annot=True to annotate cells\n",
        "\n",
        "# labels, title and ticks\n",
        "ax.set_xlabel('Predicted labels')\n",
        "ax.set_ylabel('True labels'); \n",
        "print(\"The Confusion metrix for Train data \")"
      ],
      "execution_count": 57,
      "outputs": [
        {
          "output_type": "stream",
          "text": [
            "The Confusion metrix for Train data \n"
          ],
          "name": "stdout"
        },
        {
          "output_type": "display_data",
          "data": {
            "image/png": "[encoded data removed]",
            "text/plain": [
              "<Figure size 432x288 with 2 Axes>"
            ]
          },
          "metadata": {
            "tags": []
          }
        }
      ]
    },
    {
      "cell_type": "code",
      "metadata": {
        "id": "aPiOdzJwI5jh",
        "colab_type": "code",
        "outputId": "e0238d07-0ebd-4101-b1ad-f9ac0c30e530",
        "colab": {
          "base_uri": "https://localhost:8080/",
          "height": 301
        }
      },
      "source": [
        "#https://stackoverflow.com/questions/35572000/how-can-i-plot-a-confusion-matrix\n",
        "import seaborn as sns\n",
        "import matplotlib.pyplot as plt     \n",
        "\n",
        "ax= plt.subplot()\n",
        "sns.heatmap(confusion_matrix(y_test, neigh.predict(X_set1_test )), annot=True, ax = ax,fmt='g'); #annot=True to annotate cells\n",
        "\n",
        "# labels, title and ticks\n",
        "ax.set_xlabel('Predicted labels')\n",
        "ax.set_ylabel('True labels'); \n",
        "print(\"The Confusion metrix for Test data \")"
      ],
      "execution_count": 58,
      "outputs": [
        {
          "output_type": "stream",
          "text": [
            "The Confusion metrix for Test data \n"
          ],
          "name": "stdout"
        },
        {
          "output_type": "display_data",
          "data": {
            "image/png": "[encoded data removed]",
            "text/plain": [
              "<Figure size 432x288 with 2 Axes>"
            ]
          },
          "metadata": {
            "tags": []
          }
        }
      ]
    },
    {
      "cell_type": "markdown",
      "metadata": {
        "id": "rbRBJ8nLJ7VE",
        "colab_type": "text"
      },
      "source": [
        "### Applying the Logistic Regression model  on SET:2"
      ]
    },
    {
      "cell_type": "code",
      "metadata": {
        "id": "wj_pR2z6J6oC",
        "colab_type": "code",
        "colab": {
          "base_uri": "https://localhost:8080/",
          "height": 299
        },
        "outputId": "2394e12b-46ec-4a63-8890-57f998ed49a3"
      },
      "source": [
        "from sklearn.metrics import roc_auc_score\n",
        "import matplotlib.pyplot as plt\n",
        "#from sklearn.grid_search import GridSearchCV\n",
        "from sklearn.linear_model import LogisticRegression\n",
        "from sklearn.model_selection import learning_curve, GridSearchCV\n",
        "\n",
        "clf = LogisticRegression(class_weight='balanced');\n",
        "parameters ={'C':[10**-4, 10**-3,10**-2,1,10,100,1000,500,1000,10000]}\n",
        "sd = GridSearchCV(clf, parameters, cv=3, scoring='roc_auc',return_train_score=True)\n",
        "sd.fit(X_set2_train, y_train);\n",
        "\n",
        "train_auc= sd.cv_results_['mean_train_score']\n",
        "train_auc_std= sd.cv_results_['std_train_score']\n",
        "cv_auc =sd.cv_results_['mean_test_score'] \n",
        "cv_auc_std=sd.cv_results_['std_test_score']\n",
        "\n",
        "plt.plot(parameters['C'], train_auc, label='Train AUC')\n",
        "# this code is copied from here: https://stackoverflow.com/a/48803361/4084039\n",
        "plt.gca().fill_between(parameters['C'],train_auc - train_auc_std,train_auc + train_auc_std,alpha=0.2,color='darkblue')\n",
        "\n",
        "plt.plot(parameters['C'], cv_auc, label='CV AUC')\n",
        "# this code is copied from here: https://stackoverflow.com/a/48803361/4084039\n",
        "plt.gca().fill_between(parameters['C'],cv_auc - cv_auc_std,cv_auc + cv_auc_std,alpha=0.2,color='darkorange')\n",
        "\n",
        "plt.scatter(parameters['C'], train_auc, label='Train AUC points')\n",
        "plt.scatter(parameters['C'], cv_auc, label='CV AUC points')\n",
        "plt.xscale('log') \n",
        "\n",
        "plt.legend()\n",
        "plt.xlabel(\"C : hyperparameter\")\n",
        "plt.ylabel(\"AUC\")\n",
        "plt.title(\"ERROR PLOTS\")\n",
        "plt.grid()\n",
        "plt.show()"
      ],
      "execution_count": 59,
      "outputs": [
        {
          "output_type": "display_data",
          "data": {
            "image/png": "[encoded data removed]",
            "text/plain": [
              "<Figure size 432x288 with 1 Axes>"
            ]
          },
          "metadata": {
            "tags": []
          }
        }
      ]
    },
    {
      "cell_type": "code",
      "metadata": {
        "id": "58c1fHrNKEeo",
        "colab_type": "code",
        "colab": {
          "base_uri": "https://localhost:8080/",
          "height": 295
        },
        "outputId": "a70d1bbd-33d7-4072-9ae1-60394bdb5ea8"
      },
      "source": [
        "#Fitting Model to Hyper-Parameter Curve\n",
        "# https://scikit-learn.org/stable/modules/generated/sklearn.metrics.roc_curve.html#sklearn.metrics.roc_curve\n",
        "from sklearn.metrics import roc_curve, auc\n",
        "\n",
        "\n",
        "neigh = LogisticRegression(C=1,class_weight='balanced');\n",
        "neigh.fit(X_set2_train ,y_train)\n",
        "# roc_auc_score(y_true, y_score) the 2nd parameter should be probability estimates of the positive class\n",
        "# not the predicted outputs\n",
        "\n",
        "train_fpr, train_tpr, thresholds = roc_curve(y_train, neigh.predict_proba(X_set2_train)[:,1])\n",
        "test_fpr, test_tpr, thresholds = roc_curve(y_test, neigh.predict_proba(X_set2_test)[:,1])\n",
        "\n",
        "plt.plot(train_fpr, train_tpr, label=\"train AUC =\"+str(auc(train_fpr, train_tpr)))\n",
        "plt.plot(test_fpr, test_tpr, label=\"test AUC =\"+str(auc(test_fpr, test_tpr)))\n",
        "plt.legend()\n",
        "plt.ylabel(\"True Positive Rate(TPR)\")\n",
        "plt.xlabel(\"False Positive Rate(FPR)\")\n",
        "plt.title(\"ROC PLOTS\")\n",
        "plt.show()\n"
      ],
      "execution_count": 60,
      "outputs": [
        {
          "output_type": "display_data",
          "data": {
            "image/png": "[encoded data removed]",
            "text/plain": [
              "<Figure size 432x288 with 1 Axes>"
            ]
          },
          "metadata": {
            "tags": []
          }
        }
      ]
    },
    {
      "cell_type": "code",
      "metadata": {
        "id": "KwOVjPzvKUqv",
        "colab_type": "code",
        "colab": {
          "base_uri": "https://localhost:8080/",
          "height": 313
        },
        "outputId": "93ec982e-a247-4faa-9dea-2dad12d2395e"
      },
      "source": [
        "#https://stackoverflow.com/questions/35572000/how-can-i-plot-a-confusion-matrix\n",
        "ax= plt.subplot()\n",
        "sns.heatmap(confusion_matrix(y_train, neigh.predict(X_set2_train )), annot=True, ax = ax,fmt='g'); #annot=True to annotate cells\n",
        "ax.set_xlabel('Predicted labels')\n",
        "ax.set_ylabel('True labels'); \n",
        "ax.set_title('Confusion Matrix')\n",
        "print(\"The Confusion metrix for Train data \")"
      ],
      "execution_count": 61,
      "outputs": [
        {
          "output_type": "stream",
          "text": [
            "The Confusion metrix for Train data \n"
          ],
          "name": "stdout"
        },
        {
          "output_type": "display_data",
          "data": {
            "image/png": "[encoded data removed]",
            "text/plain": [
              "<Figure size 432x288 with 2 Axes>"
            ]
          },
          "metadata": {
            "tags": []
          }
        }
      ]
    },
    {
      "cell_type": "code",
      "metadata": {
        "id": "F7PzuKLzKyuz",
        "colab_type": "code",
        "colab": {
          "base_uri": "https://localhost:8080/",
          "height": 313
        },
        "outputId": "6fbeeb36-926b-4530-d4e7-ad8694f7a232"
      },
      "source": [
        "ax= plt.subplot()\n",
        "sns.heatmap(confusion_matrix(y_test, neigh.predict(X_set2_test )), annot=True, ax = ax,fmt='g')\n",
        "ax.set_xlabel('Predicted labels')\n",
        "ax.set_ylabel('True labels')\n",
        "ax.set_title('Confusion Matrix') \n",
        "print(\"The Confusion metrix for Test data \")"
      ],
      "execution_count": 62,
      "outputs": [
        {
          "output_type": "stream",
          "text": [
            "The Confusion metrix for Test data \n"
          ],
          "name": "stdout"
        },
        {
          "output_type": "display_data",
          "data": {
            "image/png": "[encoded data removed]",
            "text/plain": [
              "<Figure size 432x288 with 2 Axes>"
            ]
          },
          "metadata": {
            "tags": []
          }
        }
      ]
    },
    {
      "cell_type": "markdown",
      "metadata": {
        "id": "L4TgDsIFLTCX",
        "colab_type": "text"
      },
      "source": [
        "### Applying the Logistic Regression model  on SET:3\n",
        "Set 3: categorical, numerical features + project_title(AVG W2V)+ preprocessed_eassay (AVG W2V)"
      ]
    },
    {
      "cell_type": "code",
      "metadata": {
        "id": "T7XgW3rdLWgb",
        "colab_type": "code",
        "colab": {
          "base_uri": "https://localhost:8080/",
          "height": 299
        },
        "outputId": "648c199d-b287-442a-87bb-06e24b98ef6b"
      },
      "source": [
        "clf = LogisticRegression(class_weight='balanced');\n",
        "parameters ={'C':[10**-4, 10**-3,10**-2,1,10,100,1000,500,1000,10000]}\n",
        "cl = GridSearchCV(clf , parameters, cv=3, scoring='roc_auc',return_train_score=True)\n",
        "cl.fit(X_set3_train, y_train);\n",
        "\n",
        "train_auc= cl.cv_results_['mean_train_score']\n",
        "train_auc_std= cl.cv_results_['std_train_score']\n",
        "cv_auc = cl.cv_results_['mean_test_score'] \n",
        "cv_auc_std= cl.cv_results_['std_test_score']\n",
        "\n",
        "plt.plot(parameters['C'], train_auc, label='Train AUC')\n",
        "# this code is copied from here: https://stackoverflow.com/a/48803361/4084039\n",
        "plt.gca().fill_between(parameters['C'],train_auc - train_auc_std,train_auc + train_auc_std,alpha=0.2,color='darkblue')\n",
        "\n",
        "plt.plot(parameters['C'], cv_auc, label='CV AUC')\n",
        "# this code is copied from here: https://stackoverflow.com/a/48803361/4084039\n",
        "plt.gca().fill_between(parameters['C'],cv_auc - cv_auc_std,cv_auc + cv_auc_std,alpha=0.2,color='darkorange')\n",
        "\n",
        "plt.scatter(parameters['C'], train_auc, label='Train AUC points')\n",
        "plt.scatter(parameters['C'], cv_auc, label='CV AUC points')\n",
        "plt.xscale('log') \n",
        "\n",
        "plt.legend()\n",
        "plt.xlabel(\"C : hyperparameter\")\n",
        "plt.ylabel(\"AUC\")\n",
        "plt.title(\"ERROR PLOTS\")\n",
        "plt.grid()\n",
        "plt.show()"
      ],
      "execution_count": 63,
      "outputs": [
        {
          "output_type": "display_data",
          "data": {
            "image/png": "[encoded data removed]",
            "text/plain": [
              "<Figure size 432x288 with 1 Axes>"
            ]
          },
          "metadata": {
            "tags": []
          }
        }
      ]
    },
    {
      "cell_type": "code",
      "metadata": {
        "id": "rXrILmOELuGA",
        "colab_type": "code",
        "colab": {
          "base_uri": "https://localhost:8080/",
          "height": 313
        },
        "outputId": "53bf28d7-13cb-4c39-ab4c-370688f34b92"
      },
      "source": [
        "#Fitting Model to Hyper-Parameter Curve:\n",
        "# https://scikit-learn.org/stable/modules/generated/sklearn.metrics.roc_curve.html#sklearn.metrics.roc_curve\n",
        "from sklearn.metrics import roc_curve, auc\n",
        "\n",
        "\n",
        "neigh = LogisticRegression(C=1,class_weight='balanced');\n",
        "neigh.fit(X_set3_train ,y_train)\n",
        "# roc_auc_score(y_true, y_score) the 2nd parameter should be probability estimates of the positive class\n",
        "# not the predicted outputs\n",
        "\n",
        "train_fpr, train_tpr, thresholds = roc_curve(y_train, neigh.predict_proba(X_set3_train)[:,1])\n",
        "test_fpr, test_tpr, thresholds = roc_curve(y_test, neigh.predict_proba(X_set3_test)[:,1])\n",
        "\n",
        "plt.plot(train_fpr, train_tpr, label=\"train AUC =\"+str(auc(train_fpr, train_tpr)))\n",
        "plt.plot(test_fpr, test_tpr, label=\"test AUC =\"+str(auc(test_fpr, test_tpr)))\n",
        "plt.legend()\n",
        "plt.ylabel(\"True Positive Rate(TPR)\")\n",
        "plt.xlabel(\"False Positive Rate(FPR)\")\n",
        "plt.title(\"ROC PLOTS\")\n",
        "plt.show()\n",
        "print(\"=\"*100)"
      ],
      "execution_count": 64,
      "outputs": [
        {
          "output_type": "display_data",
          "data": {
            "image/png": "[encoded data removed]",
            "text/plain": [
              "<Figure size 432x288 with 1 Axes>"
            ]
          },
          "metadata": {
            "tags": []
          }
        },
        {
          "output_type": "stream",
          "text": [
            "====================================================================================================\n"
          ],
          "name": "stdout"
        }
      ]
    },
    {
      "cell_type": "code",
      "metadata": {
        "id": "QNSRr3mTMnxX",
        "colab_type": "code",
        "colab": {
          "base_uri": "https://localhost:8080/",
          "height": 301
        },
        "outputId": "c3b6fecf-9d2b-46e6-cdef-89ab6abd8c1e"
      },
      "source": [
        "ax= plt.subplot()\n",
        "sns.heatmap(confusion_matrix(y_train, neigh.predict(X_set3_train )), annot=True, ax = ax,fmt='g'); #annot=True to annotate cells\n",
        "ax.set_xlabel('Predicted labels');\n",
        "ax.set_ylabel('True labels'); \n",
        "print(\"The Confusion metrix for Train data \")"
      ],
      "execution_count": 65,
      "outputs": [
        {
          "output_type": "stream",
          "text": [
            "The Confusion metrix for Train data \n"
          ],
          "name": "stdout"
        },
        {
          "output_type": "display_data",
          "data": {
            "image/png": "[encoded data removed]",
            "text/plain": [
              "<Figure size 432x288 with 2 Axes>"
            ]
          },
          "metadata": {
            "tags": []
          }
        }
      ]
    },
    {
      "cell_type": "code",
      "metadata": {
        "id": "LuMEqdhCMon4",
        "colab_type": "code",
        "colab": {
          "base_uri": "https://localhost:8080/",
          "height": 301
        },
        "outputId": "760b0e3f-8156-4e99-e3da-38c163661818"
      },
      "source": [
        "ax= plt.subplot()\n",
        "sns.heatmap(confusion_matrix(y_test, neigh.predict(X_set3_test )), annot=True, ax = ax,fmt='g')\n",
        "ax.set_xlabel('Predicted labels')\n",
        "ax.set_ylabel('True labels')\n",
        "print(\"The Confusion metrix for Test data \")"
      ],
      "execution_count": 66,
      "outputs": [
        {
          "output_type": "stream",
          "text": [
            "The Confusion metrix for Test data \n"
          ],
          "name": "stdout"
        },
        {
          "output_type": "display_data",
          "data": {
            "image/png": "[encoded data removed]",
            "text/plain": [
              "<Figure size 432x288 with 2 Axes>"
            ]
          },
          "metadata": {
            "tags": []
          }
        }
      ]
    },
    {
      "cell_type": "markdown",
      "metadata": {
        "id": "6kMLTJE1NBDY",
        "colab_type": "text"
      },
      "source": [
        "### Applying the Logistic Regression model  on SET:4\n",
        "categorical, numerical features + project_title(TFIDF W2V)+ preprocessed_essay (TFIDF W2V)"
      ]
    },
    {
      "cell_type": "code",
      "metadata": {
        "id": "KMuaQGKjNKwr",
        "colab_type": "code",
        "colab": {
          "base_uri": "https://localhost:8080/",
          "height": 0
        },
        "outputId": "485088c0-0932-400e-8d1f-16c1c93ed379"
      },
      "source": [
        "from sklearn.metrics import roc_auc_score\n",
        "import matplotlib.pyplot as plt\n",
        "#from sklearn.grid_search import GridSearchCV\n",
        "from sklearn.linear_model import LogisticRegression\n",
        "from sklearn.model_selection import learning_curve, GridSearchCV\n",
        "\n",
        "\"\"\"\n",
        "y_true : array, shape = [n_samples] or [n_samples, n_classes]\n",
        "True binary labels or binary label indicators.\n",
        "\n",
        "y_score : array, shape = [n_samples] or [n_samples, n_classes]\n",
        "Target scores, can either be probability estimates of the positive class, confidence values, or non-thresholded measure of\n",
        "decisions (as returned by “decision_function” on some classifiers). \n",
        "For binary y_true, y_score is supposed to be the score of the class with greater label.\n",
        "\n",
        "\"\"\"\n",
        "\n",
        "clf = LogisticRegression(class_weight='balanced');\n",
        "parameters ={'C':[10**-4, 10**-3,10**-2,1,10,100,1000,500,1000,10000]}\n",
        "cl = GridSearchCV(clf, parameters, cv=3, scoring='roc_auc',return_train_score=True)\n",
        "cl.fit(X_set4_train, y_train);\n",
        "\n",
        "train_auc= cl.cv_results_['mean_train_score']\n",
        "train_auc_std= cl.cv_results_['std_train_score']\n",
        "cv_auc = cl.cv_results_['mean_test_score'] \n",
        "cv_auc_std= cl.cv_results_['std_test_score']\n",
        "\n",
        "plt.plot(parameters['C'], train_auc, label='Train AUC')\n",
        "# this code is copied from here: https://stackoverflow.com/a/48803361/4084039\n",
        "plt.gca().fill_between(parameters['C'],train_auc - train_auc_std,train_auc + train_auc_std,alpha=0.2,color='darkblue')\n",
        "\n",
        "plt.plot(parameters['C'], cv_auc, label='CV AUC')\n",
        "# this code is copied from here: https://stackoverflow.com/a/48803361/4084039\n",
        "plt.gca().fill_between(parameters['C'],cv_auc - cv_auc_std,cv_auc + cv_auc_std,alpha=0.2,color='darkorange')\n",
        "\n",
        "plt.scatter(parameters['C'], train_auc, label='Train AUC points')\n",
        "plt.scatter(parameters['C'], cv_auc, label='CV AUC points')\n",
        "plt.xscale('log') \n",
        "\n",
        "plt.legend()\n",
        "plt.xlabel(\"C(1/lambda): hyperparameter\")\n",
        "plt.ylabel(\"AUC\")\n",
        "plt.title(\"ERROR PLOTS\")\n",
        "plt.grid()\n",
        "plt.show()"
      ],
      "execution_count": 67,
      "outputs": [
        {
          "output_type": "display_data",
          "data": {
            "image/png": "[encoded data removed]",
            "text/plain": [
              "<Figure size 432x288 with 1 Axes>"
            ]
          },
          "metadata": {
            "tags": []
          }
        }
      ]
    },
    {
      "cell_type": "code",
      "metadata": {
        "id": "16xzQWNdNOfM",
        "colab_type": "code",
        "colab": {
          "base_uri": "https://localhost:8080/",
          "height": 0
        },
        "outputId": "282bd4e1-90f4-4834-a7bf-f42fc97a18b7"
      },
      "source": [
        "#Fitting Model to Hyper-Parameter Curve:\n",
        "# https://scikit-learn.org/stable/modules/generated/sklearn.metrics.roc_curve.html#sklearn.metrics.roc_curve\n",
        "from sklearn.metrics import roc_curve, auc\n",
        "\n",
        "\n",
        "neigh = LogisticRegression(C=10**-2,class_weight='balanced')\n",
        "neigh.fit(X_set4_train ,y_train)\n",
        "# roc_auc_score(y_true, y_score) the 2nd parameter should be probability estimates of the positive class\n",
        "# not the predicted outputs\n",
        "\n",
        "train_fpr, train_tpr, thresholds = roc_curve(y_train, neigh.predict_proba(X_set4_train)[:,1])\n",
        "test_fpr, test_tpr, thresholds = roc_curve(y_test, neigh.predict_proba(X_set4_test)[:,1])\n",
        "\n",
        "plt.plot(train_fpr, train_tpr, label=\"train AUC =\"+str(auc(train_fpr, train_tpr)))\n",
        "plt.plot(test_fpr, test_tpr, label=\"test AUC =\"+str(auc(test_fpr, test_tpr)))\n",
        "plt.legend()\n",
        "plt.ylabel(\"True Positive Rate(TPR)\")\n",
        "plt.xlabel(\"False Positive Rate(FPR)\")\n",
        "plt.title(\"ROC PLOTS\")\n",
        "plt.show()"
      ],
      "execution_count": 68,
      "outputs": [
        {
          "output_type": "display_data",
          "data": {
            "image/png": "[encoded data removed]",
            "text/plain": [
              "<Figure size 432x288 with 1 Axes>"
            ]
          },
          "metadata": {
            "tags": []
          }
        }
      ]
    },
    {
      "cell_type": "code",
      "metadata": {
        "id": "7LTIT8KtNQ1a",
        "colab_type": "code",
        "colab": {
          "base_uri": "https://localhost:8080/",
          "height": 0
        },
        "outputId": "3580b9b7-65dd-453f-f719-4e95ac41f2cb"
      },
      "source": [
        "ax= plt.subplot()\n",
        "sns.heatmap(confusion_matrix(y_train, neigh.predict(X_set4_train )), annot=True, ax = ax,fmt='g'); #annot=True to annotate cells\n",
        "ax.set_xlabel('Predicted labels')\n",
        "ax.set_ylabel('True labels')\n",
        "ax.set_title('Confusion Matrix')"
      ],
      "execution_count": 69,
      "outputs": [
        {
          "output_type": "execute_result",
          "data": {
            "text/plain": [
              "Text(0.5, 1.0, 'Confusion Matrix')"
            ]
          },
          "metadata": {
            "tags": []
          },
          "execution_count": 69
        },
        {
          "output_type": "display_data",
          "data": {
            "image/png": "[encoded data removed]",
            "text/plain": [
              "<Figure size 432x288 with 2 Axes>"
            ]
          },
          "metadata": {
            "tags": []
          }
        }
      ]
    },
    {
      "cell_type": "code",
      "metadata": {
        "id": "sxQZ8akwNYHJ",
        "colab_type": "code",
        "colab": {
          "base_uri": "https://localhost:8080/",
          "height": 0
        },
        "outputId": "a823fbd2-2bfb-4ef8-9d5c-d28b2db55cf1"
      },
      "source": [
        "ax= plt.subplot()\n",
        "sns.heatmap(confusion_matrix(y_test, neigh.predict(X_set4_test )), annot=True, ax = ax,fmt='g'); #annot=True to annotate cells\n",
        "ax.set_xlabel('Predicted labels');\n",
        "ax.set_ylabel('True labels'); \n",
        "ax.set_title('Confusion Matrix'); "
      ],
      "execution_count": 70,
      "outputs": [
        {
          "output_type": "display_data",
          "data": {
            "image/png": "[encoded data removed]",
            "text/plain": [
              "<Figure size 432x288 with 2 Axes>"
            ]
          },
          "metadata": {
            "tags": []
          }
        }
      ]
    },
    {
      "cell_type": "markdown",
      "metadata": {
        "id": "JU8qnjT_Nfgr",
        "colab_type": "text"
      },
      "source": [
        "### Logistic Regression on SET:5 \n",
        "\n",
        "\n",
        "1.   school_state : categorical data\n",
        "2.   clean_categories : categorical data\n",
        "3.   clean_subcategories : categorical data\n",
        "4.   project_grade_category :categorical data\n",
        "5.   teacher_prefix : categorical data\n",
        "6.   quantity : numerical data\n",
        "7.   teacher_number_of_previously_posted_projects : numerical data\n",
        "8.   price : numerical data\n",
        "9.   sentiment score's of each of the essay : numerical data\n",
        "10.  number of words in the title : numerical data\n",
        "11.  number of words in the combine essays : numerical data\n"
      ]
    },
    {
      "cell_type": "markdown",
      "metadata": {
        "id": "c1L-qoL0ZgZU",
        "colab_type": "text"
      },
      "source": [
        "**Counting the Number of words and their length in project_title**\n",
        " \n",
        "\n",
        "1.   number of words in the title : numerical data ,This is a new numerical feature that is Custom formed \n",
        "\n",
        "\n",
        "\n",
        "\n"
      ]
    },
    {
      "cell_type": "code",
      "metadata": {
        "id": "gPpwhnVtNfFz",
        "colab_type": "code",
        "colab": {}
      },
      "source": [
        "# Counting the Number of words and their length \"project_title\"\n",
        "# in here we are looping inside every title and then spliting it then applyin the split to calculate the length.\n",
        "# if we dont apply the split then every words length will be counted \n",
        "# For train data\n",
        "# https://www.geeksforgeeks.org/python-string-split/\n",
        "# https://www.jquery-az.com/5-examples-get-python-list-length-array-tuple-dictionary-also/\n",
        "title_length_train=[]\n",
        "for i in range(0,22445):\n",
        "  title_length_train.append(len(X_train[\"project_title\"][i].split()))\n",
        " \n",
        "title_length_train=np.array(title_length_train)\n",
        "\n",
        "#for test data titles\n",
        "title_length_test=[]\n",
        "for i in range(0,16500):\n",
        "  title_length_test.append(len(X_test[\"project_title\"][i].split()))\n",
        "  \n",
        "title_length_test=np.array(title_length_test)\n",
        "\n",
        "#for cv data titles\n",
        "title_length_cv=[]\n",
        "for i in range(0,11055):\n",
        "  title_length_cv.append(len(X_cv[\"project_title\"][i].split()))\n",
        "  \n",
        "title_length_cv=np.array(title_length_cv)"
      ],
      "execution_count": 0,
      "outputs": []
    },
    {
      "cell_type": "markdown",
      "metadata": {
        "id": "3cH-9wwzaoGi",
        "colab_type": "text"
      },
      "source": [
        "**Counting the Number of words and their length in project_Essay**\n",
        " \n",
        "\n",
        "1.   Number of words in the essay : numerical data ,This is a new numerical feature that is Custom formed \n",
        "\n"
      ]
    },
    {
      "cell_type": "code",
      "metadata": {
        "id": "a3UAmIazaNFx",
        "colab_type": "code",
        "colab": {}
      },
      "source": [
        "#for test data esssay\n",
        "essay_length_test=[]\n",
        "for i in range(0,16500):\n",
        "  essay_length_test.append(len(X_test[\"essay\"][i].split()))\n",
        "  \n",
        "essay_length_test=np.array(essay_length_test)\n",
        "\n",
        "#for cv data essay\n",
        "\n",
        "essay_length_cv=[]\n",
        "for i in range(0,11055):\n",
        "  essay_length_cv.append(len(X_cv[\"essay\"][i].split()))\n",
        "  \n",
        "essay_length_cv=np.array(essay_length_cv)\n",
        "\n",
        "\n",
        "#for train data essay\n",
        "\n",
        "essay_length_train=[]\n",
        "for i in range(0,22445):\n",
        "  essay_length_train.append(len(X_train[\"essay\"][i].split()))\n",
        "  \n",
        "essay_length_train=np.array(essay_length_train)\n"
      ],
      "execution_count": 0,
      "outputs": []
    },
    {
      "cell_type": "markdown",
      "metadata": {
        "id": "XjmcTogva_Iw",
        "colab_type": "text"
      },
      "source": [
        "**Sentiment score's of each of the essay : Numerical data**\n",
        "in here i am adding a new feture that is the sentimental scores of the of the Processed essay "
      ]
    },
    {
      "cell_type": "code",
      "metadata": {
        "id": "fB1mS9iHbZ4e",
        "colab_type": "code",
        "colab": {
          "base_uri": "https://localhost:8080/",
          "height": 0
        },
        "outputId": "2824f5d6-846b-47a2-9198-9c0ce9379ace"
      },
      "source": [
        "\"\"\"\n",
        "The code is taken from \n",
        "https://www.nltk.org/_modules/nltk/sentiment/vader.html\n",
        "https://www.programcreek.com/python/example/100005/nltk.sentiment.vader.SentimentIntensityAnalyzer\n",
        "https://www.nltk.org/api/nltk.sentiment.html\n",
        "\n",
        "VADER sentiment analysis tools:\n",
        "\n",
        "Hutto, C.J. & Gilbert, E.E. (2014). VADER: A Parsimonious Rule-based Model for\n",
        "Sentiment Analysis of Social Media Text. Eighth International Conference on\n",
        "Weblogs and Social Media (ICWSM-14). Ann Arbor, MI, June 2014.\n",
        "\"\"\"\n",
        "import nltk\n",
        "from nltk.sentiment.vader import SentimentIntensityAnalyzer\n",
        "nltk.download('vader_lexicon')\n",
        "\n",
        "# this code is taken from \n",
        "# Project: seinfeld-analysis   Author: christopherjenness   File: analysis.py    (license) View Source Project\n",
        "# https://www.programcreek.com/python/example/100005/nltk.sentiment.vader.SentimentIntensityAnalyzer\n",
        "#https://www.programcreek.com/python/example/100005/nltk.sentiment.vader.SentimentIntensityAnalyzer\n",
        "def Sentiment_Analyser(df):\n",
        "    sentiments = []\n",
        "    sid = SentimentIntensityAnalyzer()\n",
        "    for i in range(df.shape[0]):\n",
        "        line = df['essay'][i]# take one essay\n",
        "        sentiment = sid.polarity_scores(line)# calculate the sentiment\n",
        "        sentiments.append([sentiment['neg'], sentiment['pos'],\n",
        "                           sentiment['neu'], sentiment['compound']])# list of lists\n",
        "    df[['neg', 'pos', 'neu', 'compound']] = pd.DataFrame(sentiments)\n",
        "    df['Negative'] = df['compound'] < -0.1\n",
        "    df['Positive'] = df['compound'] > 0.1\n",
        "    return df "
      ],
      "execution_count": 73,
      "outputs": [
        {
          "output_type": "stream",
          "text": [
            "[nltk_data] Downloading package vader_lexicon to /root/nltk_data...\n"
          ],
          "name": "stdout"
        }
      ]
    },
    {
      "cell_type": "code",
      "metadata": {
        "id": "QmCH4xYJfGQZ",
        "colab_type": "code",
        "colab": {}
      },
      "source": [
        "X_train=Sentiment_Analyser(X_train)\n",
        "X_test=Sentiment_Analyser(X_test)\n",
        "X_cv=Sentiment_Analyser(X_cv)"
      ],
      "execution_count": 0,
      "outputs": []
    },
    {
      "cell_type": "code",
      "metadata": {
        "id": "YtjtAymvh1aV",
        "colab_type": "code",
        "colab": {
          "base_uri": "https://localhost:8080/",
          "height": 0
        },
        "outputId": "4a7aad4c-0b9e-4362-eb13-b1831a822c00"
      },
      "source": [
        "X_train.head(3)"
      ],
      "execution_count": 75,
      "outputs": [
        {
          "output_type": "execute_result",
          "data": {
            "text/html": [
              "<div>\n",
              "<style scoped>\n",
              "    .dataframe tbody tr th:only-of-type {\n",
              "        vertical-align: middle;\n",
              "    }\n",
              "\n",
              "    .dataframe tbody tr th {\n",
              "        vertical-align: top;\n",
              "    }\n",
              "\n",
              "    .dataframe thead th {\n",
              "        text-align: right;\n",
              "    }\n",
              "</style>\n",
              "<table border=\"1\" class=\"dataframe\">\n",
              "  <thead>\n",
              "    <tr style=\"text-align: right;\">\n",
              "      <th></th>\n",
              "      <th>Unnamed: 0</th>\n",
              "      <th>id</th>\n",
              "      <th>teacher_id</th>\n",
              "      <th>teacher_prefix</th>\n",
              "      <th>school_state</th>\n",
              "      <th>project_submitted_datetime</th>\n",
              "      <th>project_title</th>\n",
              "      <th>project_essay_1</th>\n",
              "      <th>project_essay_2</th>\n",
              "      <th>project_essay_3</th>\n",
              "      <th>project_essay_4</th>\n",
              "      <th>project_resource_summary</th>\n",
              "      <th>teacher_number_of_previously_posted_projects</th>\n",
              "      <th>essay</th>\n",
              "      <th>clean_categories</th>\n",
              "      <th>clean_subcategories</th>\n",
              "      <th>clean_grade</th>\n",
              "      <th>price</th>\n",
              "      <th>quantity</th>\n",
              "      <th>neg</th>\n",
              "      <th>pos</th>\n",
              "      <th>neu</th>\n",
              "      <th>compound</th>\n",
              "      <th>Negative</th>\n",
              "      <th>Positive</th>\n",
              "    </tr>\n",
              "  </thead>\n",
              "  <tbody>\n",
              "    <tr>\n",
              "      <th>0</th>\n",
              "      <td>160434</td>\n",
              "      <td>p197727</td>\n",
              "      <td>7c3c08abf49160c18d75042ec10b5a7b</td>\n",
              "      <td>Ms.</td>\n",
              "      <td>CA</td>\n",
              "      <td>2017-02-12 15:39:26</td>\n",
              "      <td>Exploring Tech with Future Computer Scientists</td>\n",
              "      <td>My diverse set of students all have a huge dri...</td>\n",
              "      <td>My computer science students are more than eag...</td>\n",
              "      <td>NaN</td>\n",
              "      <td>NaN</td>\n",
              "      <td>My students need tech materials to further the...</td>\n",
              "      <td>2</td>\n",
              "      <td>My diverse set of students all have a huge dri...</td>\n",
              "      <td>Math_Science</td>\n",
              "      <td>AppliedSciences</td>\n",
              "      <td>9-12</td>\n",
              "      <td>419.54</td>\n",
              "      <td>5</td>\n",
              "      <td>0.007</td>\n",
              "      <td>0.183</td>\n",
              "      <td>0.810</td>\n",
              "      <td>0.9944</td>\n",
              "      <td>False</td>\n",
              "      <td>True</td>\n",
              "    </tr>\n",
              "    <tr>\n",
              "      <th>1</th>\n",
              "      <td>63298</td>\n",
              "      <td>p115545</td>\n",
              "      <td>6688982be792765f60708f4d382df67d</td>\n",
              "      <td>Mrs.</td>\n",
              "      <td>LA</td>\n",
              "      <td>2016-07-19 19:04:02</td>\n",
              "      <td>Teaching With Technology</td>\n",
              "      <td>My students are very eager five and six year o...</td>\n",
              "      <td>Students need access to technology they can us...</td>\n",
              "      <td>NaN</td>\n",
              "      <td>NaN</td>\n",
              "      <td>My students need the Samsung tablets to give t...</td>\n",
              "      <td>0</td>\n",
              "      <td>My students are very eager five and six year o...</td>\n",
              "      <td>AppliedLearning Literacy_Language</td>\n",
              "      <td>EarlyDevelopment Literacy</td>\n",
              "      <td>PreK-2</td>\n",
              "      <td>119.99</td>\n",
              "      <td>4</td>\n",
              "      <td>0.040</td>\n",
              "      <td>0.093</td>\n",
              "      <td>0.867</td>\n",
              "      <td>0.9682</td>\n",
              "      <td>False</td>\n",
              "      <td>True</td>\n",
              "    </tr>\n",
              "    <tr>\n",
              "      <th>2</th>\n",
              "      <td>130392</td>\n",
              "      <td>p224005</td>\n",
              "      <td>c0915a679827cda277fa86f2e7fef13f</td>\n",
              "      <td>Mrs.</td>\n",
              "      <td>AL</td>\n",
              "      <td>2017-02-22 13:22:59</td>\n",
              "      <td>Chrome Books in the Classroom</td>\n",
              "      <td>My 1st graders are strong, kind, loving, helpf...</td>\n",
              "      <td>Our school has recently adopted a new online l...</td>\n",
              "      <td>NaN</td>\n",
              "      <td>NaN</td>\n",
              "      <td>My students need this chrome book so they can ...</td>\n",
              "      <td>1</td>\n",
              "      <td>My 1st graders are strong, kind, loving, helpf...</td>\n",
              "      <td>Literacy_Language</td>\n",
              "      <td>Literacy</td>\n",
              "      <td>PreK-2</td>\n",
              "      <td>167.02</td>\n",
              "      <td>1</td>\n",
              "      <td>0.000</td>\n",
              "      <td>0.248</td>\n",
              "      <td>0.752</td>\n",
              "      <td>0.9969</td>\n",
              "      <td>False</td>\n",
              "      <td>True</td>\n",
              "    </tr>\n",
              "  </tbody>\n",
              "</table>\n",
              "</div>"
            ],
            "text/plain": [
              "   Unnamed: 0       id  ... Negative Positive\n",
              "0      160434  p197727  ...    False     True\n",
              "1       63298  p115545  ...    False     True\n",
              "2      130392  p224005  ...    False     True\n",
              "\n",
              "[3 rows x 25 columns]"
            ]
          },
          "metadata": {
            "tags": []
          },
          "execution_count": 75
        }
      ]
    },
    {
      "cell_type": "code",
      "metadata": {
        "id": "gtKt1R1-fYyZ",
        "colab_type": "code",
        "colab": {
          "base_uri": "https://localhost:8080/",
          "height": 0
        },
        "outputId": "40932be4-59da-4917-c2ef-63089048d6af"
      },
      "source": [
        "#for train\n",
        "\n",
        "poitive=list(X_train['pos'])\n",
        "poitive=np.array(poitive)  #Converting into a numpy array \n",
        "\n",
        "negative=list(X_train['neg'])\n",
        "negative=np.array(negative)\n",
        "\n",
        "compound=list(X_train['compound'])\n",
        "compound=np.array(compound)\n",
        "\n",
        "# combine all\n",
        "from scipy.sparse import hstack\n",
        "# with the same hstack function we are concatinating a sparse matrix and a dense matirx :)\n",
        "X_set5_train = hstack((X_train_teacher_prefix,X_train_cat,X_train_subcat ,X_train_project_grade_category,X_train_school_state,\n",
        "                      train_qnty_standar,train_price_standar,train_prev_proj_standar,\n",
        "                      essay_length_train.reshape(-1,1),title_length_train.reshape(-1,1),\n",
        "                      poitive.reshape(-1,1),negative.reshape(-1,1),compound.reshape(-1,1)))\n",
        "\n",
        "\n",
        "print(X_set5_train.shape, y_train.shape)"
      ],
      "execution_count": 76,
      "outputs": [
        {
          "output_type": "stream",
          "text": [
            "(22445, 107) (22445,)\n"
          ],
          "name": "stdout"
        }
      ]
    },
    {
      "cell_type": "code",
      "metadata": {
        "id": "3eAsSrlNhGYl",
        "colab_type": "code",
        "colab": {
          "base_uri": "https://localhost:8080/",
          "height": 0
        },
        "outputId": "26995769-08fd-41d3-bf96-4e15ab374ba9"
      },
      "source": [
        "# here i am getting the X_CV of the poitive,negative,compound Sentiment scores \n",
        "\n",
        "poitive=list(X_cv['pos'])\n",
        "poitive=np.array(poitive)\n",
        "\n",
        "negative=list(X_cv['neg'])\n",
        "negative=np.array(negative)\n",
        "\n",
        "compound=list(X_cv['compound'])\n",
        "compound=np.array(compound)\n",
        "\n",
        "# combine all\n",
        "from scipy.sparse import hstack\n",
        "# with the same hstack function we are concatinating a sparse matrix and a dense matirx :)\n",
        "X_set5_cv = hstack((\n",
        "                      X_cv_teacher_prefix,X_cv_cat,X_cv_subcat ,X_cv_project_grade_category,X_cv_school_state,\n",
        "                      cv_qnty_standar,cv_price_standar,cv_prev_proj_standar,\n",
        "                      essay_length_cv.reshape(-1,1),title_length_cv.reshape(-1,1),\n",
        "                      poitive.reshape(-1,1),negative.reshape(-1,1),compound.reshape(-1,1)))\n",
        "\n",
        "\n",
        "print(X_set5_cv.shape, y_cv.shape)"
      ],
      "execution_count": 77,
      "outputs": [
        {
          "output_type": "stream",
          "text": [
            "(11055, 107) (11055,)\n"
          ],
          "name": "stdout"
        }
      ]
    },
    {
      "cell_type": "code",
      "metadata": {
        "id": "3ewhRrQBjEk2",
        "colab_type": "code",
        "colab": {
          "base_uri": "https://localhost:8080/",
          "height": 0
        },
        "outputId": "e6fc87d6-fc0e-4fc3-fd2a-9c9c221f3a4d"
      },
      "source": [
        "#for test\n",
        "poitive=list(X_test['pos'])\n",
        "poitive=np.array(poitive)\n",
        "\n",
        "negative=list(X_test['neg'])\n",
        "negative=np.array(negative)\n",
        "\n",
        "compound=list(X_test['compound'])\n",
        "compound=np.array(compound)\n",
        "\n",
        "# combine all\n",
        "from scipy.sparse import hstack\n",
        "# with the same hstack function we are concatinating a sparse matrix and a dense matirx :)\n",
        "X_set5_test = hstack((\n",
        "                      X_test_teacher_prefix,X_test_cat,X_test_subcat ,X_test_project_grade_category,X_test_school_state,\n",
        "                      test_qnty_standar,test_price_standar,test_prev_proj_standar,\n",
        "                      essay_length_test.reshape(-1,1),title_length_test.reshape(-1,1),\n",
        "                      poitive.reshape(-1,1),negative.reshape(-1,1),compound.reshape(-1,1))) \n",
        "\n",
        "\n",
        "print(X_set5_test.shape, y_test.shape)"
      ],
      "execution_count": 78,
      "outputs": [
        {
          "output_type": "stream",
          "text": [
            "(16500, 107) (16500,)\n"
          ],
          "name": "stdout"
        }
      ]
    },
    {
      "cell_type": "markdown",
      "metadata": {
        "id": "9rYJ3kDoisM3",
        "colab_type": "text"
      },
      "source": [
        "### Applying the Logistic Regression model  on SET:5 "
      ]
    },
    {
      "cell_type": "code",
      "metadata": {
        "id": "qz4hTd0Hir6H",
        "colab_type": "code",
        "colab": {
          "base_uri": "https://localhost:8080/",
          "height": 299
        },
        "outputId": "23bd2461-a0ef-47ef-cfbd-132337bea49d"
      },
      "source": [
        "\n",
        "from sklearn.metrics import roc_auc_score\n",
        "import matplotlib.pyplot as plt\n",
        "#from sklearn.grid_search import GridSearchCV\n",
        "from sklearn.linear_model import LogisticRegression\n",
        "from sklearn.model_selection import learning_curve, GridSearchCV\n",
        "\n",
        "\"\"\"\n",
        "y_true : array, shape = [n_samples] or [n_samples, n_classes]\n",
        "True binary labels or binary label indicators.\n",
        "\n",
        "y_score : array, shape = [n_samples] or [n_samples, n_classes]\n",
        "Target scores, can either be probability estimates of the positive class, confidence values, or non-thresholded measure of\n",
        "decisions (as returned by “decision_function” on some classifiers). \n",
        "For binary y_true, y_score is supposed to be the score of the class with greater label.\n",
        "\n",
        "\"\"\"\n",
        "\n",
        "clf = LogisticRegression(class_weight='balanced');\n",
        "parameters ={'C':[10**-4, 10**-3,10**-2,1,10,100,1000,500,1000,10000]}\n",
        "cl = GridSearchCV(clf, parameters, cv=3, scoring='roc_auc',return_train_score=True)\n",
        "cl.fit(X_set5_train, y_train);\n",
        "\n",
        "train_auc= cl.cv_results_['mean_train_score']\n",
        "train_auc_std= cl.cv_results_['std_train_score']\n",
        "cv_auc = cl.cv_results_['mean_test_score'] \n",
        "cv_auc_std= cl.cv_results_['std_test_score']\n",
        "\n",
        "plt.plot(parameters['C'], train_auc, label='Train AUC')\n",
        "# this code is copied from here: https://stackoverflow.com/a/48803361/4084039\n",
        "plt.gca().fill_between(parameters['C'],train_auc - train_auc_std,train_auc + train_auc_std,alpha=0.2,color='darkblue')\n",
        "\n",
        "plt.plot(parameters['C'], cv_auc, label='CV AUC')\n",
        "# this code is copied from here: https://stackoverflow.com/a/48803361/4084039\n",
        "plt.gca().fill_between(parameters['C'],cv_auc - cv_auc_std,cv_auc + cv_auc_std,alpha=0.2,color='darkorange')\n",
        "\n",
        "plt.scatter(parameters['C'], train_auc, label='Train AUC points')\n",
        "plt.scatter(parameters['C'], cv_auc, label='CV AUC points')\n",
        "plt.xscale('log') \n",
        "\n",
        "plt.legend()\n",
        "plt.xlabel(\"C(1/lambda): hyperparameter\")\n",
        "plt.ylabel(\"AUC\")\n",
        "plt.title(\"ERROR PLOTS\")\n",
        "plt.grid()\n",
        "plt.show()"
      ],
      "execution_count": 79,
      "outputs": [
        {
          "output_type": "display_data",
          "data": {
            "image/png": "[encoded data removed]",
            "text/plain": [
              "<Figure size 432x288 with 1 Axes>"
            ]
          },
          "metadata": {
            "tags": []
          }
        }
      ]
    },
    {
      "cell_type": "code",
      "metadata": {
        "id": "haqayDsLiuu-",
        "colab_type": "code",
        "colab": {
          "base_uri": "https://localhost:8080/",
          "height": 295
        },
        "outputId": "90cebb93-8eff-4272-e5a2-e924ecc2eff1"
      },
      "source": [
        "# https://scikit-learn.org/stable/modules/generated/sklearn.metrics.roc_curve.html#sklearn.metrics.roc_curve\n",
        "from sklearn.metrics import roc_curve, auc\n",
        "neigh = LogisticRegression(C=10**-2,class_weight='balanced');\n",
        "neigh.fit(X_set5_train ,y_train)\n",
        "# roc_auc_score(y_true, y_score) the 2nd parameter should be probability estimates of the positive class\n",
        "# not the predicted outputs\n",
        "\n",
        "train_fpr, train_tpr, thresholds = roc_curve(y_train, neigh.predict_proba(X_set5_train)[:,1])\n",
        "test_fpr, test_tpr, thresholds = roc_curve(y_test, neigh.predict_proba(X_set5_test)[:,1])\n",
        "\n",
        "plt.plot(train_fpr, train_tpr, label=\"train AUC =\"+str(auc(train_fpr, train_tpr)))\n",
        "plt.plot(test_fpr, test_tpr, label=\"test AUC =\"+str(auc(test_fpr, test_tpr)))\n",
        "plt.legend()\n",
        "plt.ylabel(\"True Positive Rate(TPR)\")\n",
        "plt.xlabel(\"False Positive Rate(FPR)\")\n",
        "plt.title(\"ROC PLOTS\")\n",
        "plt.show()"
      ],
      "execution_count": 80,
      "outputs": [
        {
          "output_type": "display_data",
          "data": {
            "image/png": "[encoded data removed]",
            "text/plain": [
              "<Figure size 432x288 with 1 Axes>"
            ]
          },
          "metadata": {
            "tags": []
          }
        }
      ]
    },
    {
      "cell_type": "code",
      "metadata": {
        "id": "j4dpj6VbkFUk",
        "colab_type": "code",
        "colab": {
          "base_uri": "https://localhost:8080/",
          "height": 313
        },
        "outputId": "f48ff056-57fb-4bc5-84a1-1dc26d468fac"
      },
      "source": [
        "#https://stackoverflow.com/questions/35572000/how-can-i-plot-a-confusion-matrix\n",
        "ax= plt.subplot()\n",
        "sns.heatmap(confusion_matrix(y_train, neigh.predict(X_set5_train)), annot=True, ax = ax,fmt='g'); #annot=True to annotate cells\n",
        "ax.set_xlabel('Predicted labels')\n",
        "ax.set_ylabel('True labels')\n",
        "ax.set_title('Confusion Matrix')"
      ],
      "execution_count": 81,
      "outputs": [
        {
          "output_type": "execute_result",
          "data": {
            "text/plain": [
              "Text(0.5, 1.0, 'Confusion Matrix')"
            ]
          },
          "metadata": {
            "tags": []
          },
          "execution_count": 81
        },
        {
          "output_type": "display_data",
          "data": {
            "image/png": "[encoded data removed]",
            "text/plain": [
              "<Figure size 432x288 with 2 Axes>"
            ]
          },
          "metadata": {
            "tags": []
          }
        }
      ]
    },
    {
      "cell_type": "code",
      "metadata": {
        "id": "9pTLm6wpklZQ",
        "colab_type": "code",
        "colab": {
          "base_uri": "https://localhost:8080/",
          "height": 313
        },
        "outputId": "d1c07a2b-1a6e-4efe-b4a1-d0281030230a"
      },
      "source": [
        "ax= plt.subplot()\n",
        "sns.heatmap(confusion_matrix(y_test, neigh.predict(X_set5_test )), annot=True, ax = ax,fmt='g'); #annot=True to annotate cells\n",
        "\n",
        "ax.set_xlabel('Predicted labels')\n",
        "ax.set_ylabel('True labels')\n",
        "ax.set_title('Confusion Matrix')"
      ],
      "execution_count": 82,
      "outputs": [
        {
          "output_type": "execute_result",
          "data": {
            "text/plain": [
              "Text(0.5, 1.0, 'Confusion Matrix')"
            ]
          },
          "metadata": {
            "tags": []
          },
          "execution_count": 82
        },
        {
          "output_type": "display_data",
          "data": {
            "image/png": "[encoded data removed]",
            "text/plain": [
              "<Figure size 432x288 with 2 Axes>"
            ]
          },
          "metadata": {
            "tags": []
          }
        }
      ]
    },
    {
      "cell_type": "markdown",
      "metadata": {
        "id": "t67Z87PanBK9",
        "colab_type": "text"
      },
      "source": [
        "Conclusion : \n",
        "1. If we compare the roc curves between model with Text features and model without the text features , the model with the text features included is better as the auc and the Confusion metrix gives better results ."
      ]
    },
    {
      "cell_type": "code",
      "metadata": {
        "id": "Qjw73_Lmk_5Y",
        "colab_type": "code",
        "colab": {
          "base_uri": "https://localhost:8080/",
          "height": 173
        },
        "outputId": "aed031c7-42c9-4768-8c3d-67c88ccf4403"
      },
      "source": [
        "#how to use pretty table http://zetcode.com/python/prettytable/\n",
        "from prettytable import PrettyTable\n",
        "\n",
        "tb = PrettyTable()\n",
        "tb.field_names= (\"Vectorizer\", \"HyperParameter\", \"AUC\")\n",
        "tb.add_row([\"BOW\",10**-3, 70])\n",
        "tb.add_row([\"Tf-Idf\",1, 66])\n",
        "tb.add_row([\"AVGW2V\",1, 69])\n",
        "tb.add_row([\"Tf-Idf w2v\", 10**-2, 60])\n",
        "tb.add_row([\"Set 5\",10**-3, 64])\n",
        "print(tb.get_string(titles = \"Logistic Reg> - Observations\"))"
      ],
      "execution_count": 83,
      "outputs": [
        {
          "output_type": "stream",
          "text": [
            "+------------+----------------+-----+\n",
            "| Vectorizer | HyperParameter | AUC |\n",
            "+------------+----------------+-----+\n",
            "|    BOW     |     0.001      |  70 |\n",
            "|   Tf-Idf   |       1        |  66 |\n",
            "|   AVGW2V   |       1        |  69 |\n",
            "| Tf-Idf w2v |      0.01      |  60 |\n",
            "|   Set 5    |     0.001      |  64 |\n",
            "+------------+----------------+-----+\n"
          ],
          "name": "stdout"
        }
      ]
    }
  ]
}